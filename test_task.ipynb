{
 "metadata": {
  "kernelspec": {
   "name": "python3",
   "display_name": "Python 3",
   "language": "python"
  },
  "language_info": {
   "name": "python",
   "version": "3.10.12",
   "mimetype": "text/x-python",
   "codemirror_mode": {
    "name": "ipython",
    "version": 3
   },
   "pygments_lexer": "ipython3",
   "nbconvert_exporter": "python",
   "file_extension": ".py"
  }
 },
 "nbformat_minor": 5,
 "nbformat": 4,
 "cells": [
  {
   "cell_type": "code",
   "source": [
    "import os\n",
    "\n",
    "import numpy as np\n",
    "import pandas as pd\n",
    "import seaborn as sns\n",
    "from lightgbm import LGBMClassifier\n",
    "from sklearn.discriminant_analysis import LinearDiscriminantAnalysis\n",
    "from sklearn.ensemble import RandomForestClassifier, GradientBoostingClassifier, ExtraTreesClassifier, \\\n",
    "    AdaBoostClassifier\n",
    "from sklearn.ensemble import VotingClassifier\n",
    "from sklearn.linear_model import LogisticRegression\n",
    "from sklearn.metrics import roc_auc_score\n",
    "from sklearn.model_selection import cross_val_score, StratifiedKFold, GridSearchCV, train_test_split\n",
    "from sklearn.neighbors import KNeighborsClassifier\n",
    "from sklearn.preprocessing import OneHotEncoder, StandardScaler\n",
    "from sklearn.tree import DecisionTreeClassifier\n",
    "from xgboost import XGBClassifier"
   ],
   "metadata": {
    "execution": {
     "iopub.status.busy": "2023-08-17T20:31:22.193047Z",
     "iopub.execute_input": "2023-08-17T20:31:22.194359Z",
     "iopub.status.idle": "2023-08-17T20:31:24.263683Z",
     "shell.execute_reply.started": "2023-08-17T20:31:22.194299Z",
     "shell.execute_reply": "2023-08-17T20:31:24.262638Z"
    },
    "trusted": true,
    "ExecuteTime": {
     "end_time": "2023-08-26T16:09:39.282270Z",
     "start_time": "2023-08-26T16:09:35.655208900Z"
    }
   },
   "execution_count": 1,
   "outputs": []
  },
  {
   "cell_type": "code",
   "source": [
    "X_train_data_path = os.getcwd() + '/data/' + \"X_train.csv\"\n",
    "y_train_data_path = os.getcwd() + '/data/' + \"y_train.csv\"\n",
    "X_test_data_path = os.getcwd() + '/data/' + \"X_test.csv\""
   ],
   "metadata": {
    "collapsed": false,
    "jupyter": {
     "outputs_hidden": false
    },
    "execution": {
     "iopub.status.busy": "2023-08-17T20:31:24.275604Z",
     "iopub.execute_input": "2023-08-17T20:31:24.276704Z",
     "iopub.status.idle": "2023-08-17T20:31:24.290986Z",
     "shell.execute_reply.started": "2023-08-17T20:31:24.276665Z",
     "shell.execute_reply": "2023-08-17T20:31:24.290038Z"
    },
    "trusted": true,
    "ExecuteTime": {
     "end_time": "2023-08-26T16:09:39.289264900Z",
     "start_time": "2023-08-26T16:09:39.284268Z"
    }
   },
   "execution_count": 2,
   "outputs": []
  },
  {
   "cell_type": "code",
   "source": [
    "X = pd.read_csv(X_train_data_path, index_col='index')\n",
    "y = pd.read_csv(y_train_data_path, index_col='index')\n",
    "X_test = pd.read_csv(X_test_data_path, index_col='index')"
   ],
   "metadata": {
    "collapsed": false,
    "jupyter": {
     "outputs_hidden": false
    },
    "execution": {
     "iopub.status.busy": "2023-08-17T20:31:24.293307Z",
     "iopub.execute_input": "2023-08-17T20:31:24.293749Z",
     "iopub.status.idle": "2023-08-17T20:31:41.595676Z",
     "shell.execute_reply.started": "2023-08-17T20:31:24.293723Z",
     "shell.execute_reply": "2023-08-17T20:31:41.594849Z"
    },
    "trusted": true,
    "ExecuteTime": {
     "end_time": "2023-08-26T16:09:54.037526Z",
     "start_time": "2023-08-26T16:09:39.291263500Z"
    }
   },
   "execution_count": 3,
   "outputs": []
  },
  {
   "cell_type": "code",
   "source": [
    "X_train, X_test_from_train, y_train, y_test_from_train = train_test_split(\n",
    "    X, y,\n",
    "    test_size=0.2,\n",
    "    random_state=42\n",
    ")"
   ],
   "metadata": {
    "collapsed": false,
    "jupyter": {
     "outputs_hidden": false
    },
    "execution": {
     "iopub.status.busy": "2023-08-17T20:31:41.597065Z",
     "iopub.execute_input": "2023-08-17T20:31:41.597604Z",
     "iopub.status.idle": "2023-08-17T20:31:43.127704Z",
     "shell.execute_reply.started": "2023-08-17T20:31:41.597562Z",
     "shell.execute_reply": "2023-08-17T20:31:43.126893Z"
    },
    "trusted": true,
    "ExecuteTime": {
     "end_time": "2023-08-26T16:09:56.354532400Z",
     "start_time": "2023-08-26T16:09:54.040524700Z"
    }
   },
   "execution_count": 4,
   "outputs": []
  },
  {
   "cell_type": "code",
   "source": [
    "X_datasets = [X_train, X_test_from_train, X_test]"
   ],
   "metadata": {
    "collapsed": false,
    "jupyter": {
     "outputs_hidden": false
    },
    "execution": {
     "iopub.status.busy": "2023-08-17T20:31:43.129355Z",
     "iopub.execute_input": "2023-08-17T20:31:43.130123Z",
     "iopub.status.idle": "2023-08-17T20:31:43.135325Z",
     "shell.execute_reply.started": "2023-08-17T20:31:43.130085Z",
     "shell.execute_reply": "2023-08-17T20:31:43.134126Z"
    },
    "trusted": true,
    "ExecuteTime": {
     "end_time": "2023-08-26T16:09:56.363528800Z",
     "start_time": "2023-08-26T16:09:56.355533Z"
    }
   },
   "execution_count": 5,
   "outputs": []
  },
  {
   "cell_type": "code",
   "source": [
    "# view all columns\n",
    "pd.set_option('display.max_columns', None)"
   ],
   "metadata": {
    "collapsed": false,
    "jupyter": {
     "outputs_hidden": false
    },
    "execution": {
     "iopub.status.busy": "2023-08-17T20:31:43.136719Z",
     "iopub.execute_input": "2023-08-17T20:31:43.137191Z",
     "iopub.status.idle": "2023-08-17T20:31:43.150446Z",
     "shell.execute_reply.started": "2023-08-17T20:31:43.137165Z",
     "shell.execute_reply": "2023-08-17T20:31:43.149385Z"
    },
    "trusted": true,
    "ExecuteTime": {
     "end_time": "2023-08-26T16:09:56.374522100Z",
     "start_time": "2023-08-26T16:09:56.364526500Z"
    }
   },
   "execution_count": 6,
   "outputs": []
  },
  {
   "cell_type": "code",
   "source": [
    "display(X_train)"
   ],
   "metadata": {
    "collapsed": false,
    "jupyter": {
     "outputs_hidden": false
    },
    "execution": {
     "iopub.status.busy": "2023-08-17T20:31:43.151907Z",
     "iopub.execute_input": "2023-08-17T20:31:43.152574Z",
     "iopub.status.idle": "2023-08-17T20:31:43.238070Z",
     "shell.execute_reply.started": "2023-08-17T20:31:43.152536Z",
     "shell.execute_reply": "2023-08-17T20:31:43.237067Z"
    },
    "trusted": true,
    "ExecuteTime": {
     "end_time": "2023-08-26T16:09:56.467852600Z",
     "start_time": "2023-08-26T16:09:56.375520600Z"
    }
   },
   "execution_count": 7,
   "outputs": [
    {
     "data": {
      "text/plain": "         acc_now_delinq addr_state  annual_inc  chargeoff_within_12_mths  \\\nindex                                                                      \n1030569             0.0         MS     90000.0                       0.0   \n965737              0.0         MD     95000.0                       0.0   \n151079              0.0         IL     65000.0                       0.0   \n1037869             0.0         TX     89000.0                       0.0   \n159392              0.0         PA     65500.0                       0.0   \n...                 ...        ...         ...                       ...   \n110268              0.0         CA    176000.0                       0.0   \n259178              0.0         WA    190000.0                       0.0   \n131932              0.0         NJ     25000.0                       0.0   \n671155              0.0         MN     82000.0                       0.0   \n121958              0.0         FL     34000.0                       0.0   \n\n         collections_12_mths_ex_med  delinq_2yrs    dti earliest_cr_line  \\\nindex                                                                      \n1030569                         0.0          4.0  23.23         Mar-2007   \n965737                          0.0          0.0  13.54         Apr-2006   \n151079                          0.0          0.0  16.06         Jul-1995   \n1037869                         0.0          0.0  17.69         Feb-1992   \n159392                          0.0          0.0  20.55         Oct-2000   \n...                             ...          ...    ...              ...   \n110268                          0.0          1.0   8.26         Mar-2002   \n259178                          0.0          0.0   6.02         Aug-1999   \n131932                          0.0          0.0  16.51         Apr-2003   \n671155                          0.0          0.0  24.81         Jun-1999   \n121958                          0.0          0.0  23.44         Apr-2001   \n\n        emp_length  fico_range_high  fico_range_low  funded_amnt  \\\nindex                                                              \n1030569    8 years            669.0           665.0      13850.0   \n965737     6 years            704.0           700.0      21000.0   \n151079   10+ years            669.0           665.0      12000.0   \n1037869  10+ years            724.0           720.0      28000.0   \n159392   10+ years            719.0           715.0       8400.0   \n...            ...              ...             ...          ...   \n110268     3 years            684.0           680.0      15000.0   \n259178   10+ years            679.0           675.0      35000.0   \n131932      1 year            684.0           680.0       7000.0   \n671155      1 year            779.0           775.0      40000.0   \n121958   10+ years            704.0           700.0       6075.0   \n\n        home_ownership  inq_last_12m  installment int_rate   issue_d  \\\nindex                                                                  \n1030569       MORTGAGE           NaN       502.45   18.25%  Jul-2015   \n965737             OWN           NaN       707.48   12.99%  Mar-2014   \n151079        MORTGAGE           NaN       421.83   15.99%  Nov-2014   \n1037869       MORTGAGE           NaN       570.16    8.18%  Aug-2015   \n159392        MORTGAGE           0.0       252.97    5.32%  Feb-2017   \n...                ...           ...          ...      ...       ...   \n110268        MORTGAGE           NaN       466.53    7.49%  Jan-2015   \n259178            RENT           NaN      1262.88   17.86%  Nov-2015   \n131932            RENT           NaN       234.82   12.69%  Oct-2011   \n671155        MORTGAGE           1.0       870.10   11.02%  Oct-2019   \n121958        MORTGAGE           1.0       193.16    8.99%  Jun-2016   \n\n         loan_amnt  mort_acc  mths_since_last_delinq  \\\nindex                                                  \n1030569    13850.0       1.0                     2.0   \n965737     21000.0       0.0                     NaN   \n151079     12000.0       5.0                    81.0   \n1037869    28000.0       2.0                     NaN   \n159392      8400.0       4.0                    58.0   \n...            ...       ...                     ...   \n110268     15000.0       1.0                    21.0   \n259178     35000.0       1.0                     NaN   \n131932      7000.0       NaN                     NaN   \n671155     40000.0       2.0                     NaN   \n121958      6075.0       2.0                    70.0   \n\n         mths_since_recent_bc_dlq  mths_since_recent_inq  \\\nindex                                                      \n1030569                       NaN                    7.0   \n965737                        NaN                    2.0   \n151079                        NaN                    6.0   \n1037869                       NaN                    NaN   \n159392                       71.0                   13.0   \n...                           ...                    ...   \n110268                       28.0                    3.0   \n259178                        NaN                    1.0   \n131932                        NaN                    NaN   \n671155                        NaN                    3.0   \n121958                       70.0                    7.0   \n\n         num_accts_ever_120_pd  num_actv_bc_tl  num_rev_accts  num_sats  \\\nindex                                                                     \n1030569                    1.0             3.0            5.0      12.0   \n965737                     0.0             3.0           10.0       9.0   \n151079                     0.0             2.0           15.0      12.0   \n1037869                    0.0             4.0           19.0      10.0   \n159392                     5.0             3.0           17.0      21.0   \n...                        ...             ...            ...       ...   \n110268                     0.0             6.0           11.0       9.0   \n259178                     0.0             4.0            8.0       5.0   \n131932                     NaN             NaN            NaN       NaN   \n671155                     0.0             6.0           32.0      24.0   \n121958                     2.0             6.0           14.0      12.0   \n\n         num_tl_120dpd_2m  num_tl_30dpd  num_tl_90g_dpd_24m  \\\nindex                                                         \n1030569               0.0           0.0                 1.0   \n965737                0.0           0.0                 0.0   \n151079                0.0           0.0                 0.0   \n1037869               0.0           0.0                 0.0   \n159392                0.0           0.0                 0.0   \n...                   ...           ...                 ...   \n110268                0.0           0.0                 0.0   \n259178                0.0           0.0                 0.0   \n131932                NaN           NaN                 NaN   \n671155                0.0           0.0                 0.0   \n121958                0.0           0.0                 0.0   \n\n         num_tl_op_past_12m  open_acc  open_il_24m  open_rv_24m  \\\nindex                                                             \n1030569                 2.0      12.0          NaN          NaN   \n965737                  1.0       9.0          NaN          NaN   \n151079                  4.0      12.0          NaN          NaN   \n1037869                 1.0      10.0          NaN          NaN   \n159392                  1.0      21.0          2.0          2.0   \n...                     ...       ...          ...          ...   \n110268                  1.0       9.0          NaN          NaN   \n259178                  1.0       5.0          NaN          NaN   \n131932                  NaN      20.0          NaN          NaN   \n671155                  1.0      24.0          1.0          2.0   \n121958                  2.0      12.0          2.0          2.0   \n\n         percent_bc_gt_75  pub_rec  pub_rec_bankruptcies             purpose  \\\nindex                                                                          \n1030569             100.0      0.0                   0.0    home_improvement   \n965737               33.3      0.0                   0.0  debt_consolidation   \n151079               50.0      3.0                   2.0  debt_consolidation   \n1037869              75.0      0.0                   0.0         credit_card   \n159392               40.0      0.0                   0.0  debt_consolidation   \n...                   ...      ...                   ...                 ...   \n110268               16.7      0.0                   0.0         credit_card   \n259178              100.0      0.0                   0.0  debt_consolidation   \n131932                NaN      0.0                   0.0  debt_consolidation   \n671155                7.7      0.0                   0.0  debt_consolidation   \n121958               33.3      0.0                   0.0                 car   \n\n        revol_util  tax_liens        term                    title  total_acc  \\\nindex                                                                           \n1030569      27.3%        0.0   36 months         Home improvement       17.0   \n965737       60.3%        0.0   36 months       Debt consolidation       15.0   \n151079         51%        0.0   36 months       Debt consolidation       22.0   \n1037869      72.4%        0.0   60 months  Credit card refinancing       24.0   \n159392         35%        0.0   36 months       Debt consolidation       41.0   \n...            ...        ...         ...                      ...        ...   \n110268       59.7%        0.0   36 months  Credit card refinancing       17.0   \n259178         98%        0.0   36 months       Debt consolidation       10.0   \n131932       54.2%        0.0   36 months       Debt Consolidation       24.0   \n671155       11.8%        0.0   60 months       Debt consolidation       43.0   \n121958       54.2%        0.0   36 months            Car financing       25.0   \n\n        verification_status zip_code  \nindex                                 \n1030569            Verified    386xx  \n965737      Source Verified    207xx  \n151079      Source Verified    613xx  \n1037869        Not Verified    764xx  \n159392         Not Verified    170xx  \n...                     ...      ...  \n110268         Not Verified    902xx  \n259178      Source Verified    993xx  \n131932         Not Verified    087xx  \n671155      Source Verified    553xx  \n121958             Verified    346xx  \n\n[959888 rows x 44 columns]",
      "text/html": "<div>\n<style scoped>\n    .dataframe tbody tr th:only-of-type {\n        vertical-align: middle;\n    }\n\n    .dataframe tbody tr th {\n        vertical-align: top;\n    }\n\n    .dataframe thead th {\n        text-align: right;\n    }\n</style>\n<table border=\"1\" class=\"dataframe\">\n  <thead>\n    <tr style=\"text-align: right;\">\n      <th></th>\n      <th>acc_now_delinq</th>\n      <th>addr_state</th>\n      <th>annual_inc</th>\n      <th>chargeoff_within_12_mths</th>\n      <th>collections_12_mths_ex_med</th>\n      <th>delinq_2yrs</th>\n      <th>dti</th>\n      <th>earliest_cr_line</th>\n      <th>emp_length</th>\n      <th>fico_range_high</th>\n      <th>fico_range_low</th>\n      <th>funded_amnt</th>\n      <th>home_ownership</th>\n      <th>inq_last_12m</th>\n      <th>installment</th>\n      <th>int_rate</th>\n      <th>issue_d</th>\n      <th>loan_amnt</th>\n      <th>mort_acc</th>\n      <th>mths_since_last_delinq</th>\n      <th>mths_since_recent_bc_dlq</th>\n      <th>mths_since_recent_inq</th>\n      <th>num_accts_ever_120_pd</th>\n      <th>num_actv_bc_tl</th>\n      <th>num_rev_accts</th>\n      <th>num_sats</th>\n      <th>num_tl_120dpd_2m</th>\n      <th>num_tl_30dpd</th>\n      <th>num_tl_90g_dpd_24m</th>\n      <th>num_tl_op_past_12m</th>\n      <th>open_acc</th>\n      <th>open_il_24m</th>\n      <th>open_rv_24m</th>\n      <th>percent_bc_gt_75</th>\n      <th>pub_rec</th>\n      <th>pub_rec_bankruptcies</th>\n      <th>purpose</th>\n      <th>revol_util</th>\n      <th>tax_liens</th>\n      <th>term</th>\n      <th>title</th>\n      <th>total_acc</th>\n      <th>verification_status</th>\n      <th>zip_code</th>\n    </tr>\n    <tr>\n      <th>index</th>\n      <th></th>\n      <th></th>\n      <th></th>\n      <th></th>\n      <th></th>\n      <th></th>\n      <th></th>\n      <th></th>\n      <th></th>\n      <th></th>\n      <th></th>\n      <th></th>\n      <th></th>\n      <th></th>\n      <th></th>\n      <th></th>\n      <th></th>\n      <th></th>\n      <th></th>\n      <th></th>\n      <th></th>\n      <th></th>\n      <th></th>\n      <th></th>\n      <th></th>\n      <th></th>\n      <th></th>\n      <th></th>\n      <th></th>\n      <th></th>\n      <th></th>\n      <th></th>\n      <th></th>\n      <th></th>\n      <th></th>\n      <th></th>\n      <th></th>\n      <th></th>\n      <th></th>\n      <th></th>\n      <th></th>\n      <th></th>\n      <th></th>\n      <th></th>\n    </tr>\n  </thead>\n  <tbody>\n    <tr>\n      <th>1030569</th>\n      <td>0.0</td>\n      <td>MS</td>\n      <td>90000.0</td>\n      <td>0.0</td>\n      <td>0.0</td>\n      <td>4.0</td>\n      <td>23.23</td>\n      <td>Mar-2007</td>\n      <td>8 years</td>\n      <td>669.0</td>\n      <td>665.0</td>\n      <td>13850.0</td>\n      <td>MORTGAGE</td>\n      <td>NaN</td>\n      <td>502.45</td>\n      <td>18.25%</td>\n      <td>Jul-2015</td>\n      <td>13850.0</td>\n      <td>1.0</td>\n      <td>2.0</td>\n      <td>NaN</td>\n      <td>7.0</td>\n      <td>1.0</td>\n      <td>3.0</td>\n      <td>5.0</td>\n      <td>12.0</td>\n      <td>0.0</td>\n      <td>0.0</td>\n      <td>1.0</td>\n      <td>2.0</td>\n      <td>12.0</td>\n      <td>NaN</td>\n      <td>NaN</td>\n      <td>100.0</td>\n      <td>0.0</td>\n      <td>0.0</td>\n      <td>home_improvement</td>\n      <td>27.3%</td>\n      <td>0.0</td>\n      <td>36 months</td>\n      <td>Home improvement</td>\n      <td>17.0</td>\n      <td>Verified</td>\n      <td>386xx</td>\n    </tr>\n    <tr>\n      <th>965737</th>\n      <td>0.0</td>\n      <td>MD</td>\n      <td>95000.0</td>\n      <td>0.0</td>\n      <td>0.0</td>\n      <td>0.0</td>\n      <td>13.54</td>\n      <td>Apr-2006</td>\n      <td>6 years</td>\n      <td>704.0</td>\n      <td>700.0</td>\n      <td>21000.0</td>\n      <td>OWN</td>\n      <td>NaN</td>\n      <td>707.48</td>\n      <td>12.99%</td>\n      <td>Mar-2014</td>\n      <td>21000.0</td>\n      <td>0.0</td>\n      <td>NaN</td>\n      <td>NaN</td>\n      <td>2.0</td>\n      <td>0.0</td>\n      <td>3.0</td>\n      <td>10.0</td>\n      <td>9.0</td>\n      <td>0.0</td>\n      <td>0.0</td>\n      <td>0.0</td>\n      <td>1.0</td>\n      <td>9.0</td>\n      <td>NaN</td>\n      <td>NaN</td>\n      <td>33.3</td>\n      <td>0.0</td>\n      <td>0.0</td>\n      <td>debt_consolidation</td>\n      <td>60.3%</td>\n      <td>0.0</td>\n      <td>36 months</td>\n      <td>Debt consolidation</td>\n      <td>15.0</td>\n      <td>Source Verified</td>\n      <td>207xx</td>\n    </tr>\n    <tr>\n      <th>151079</th>\n      <td>0.0</td>\n      <td>IL</td>\n      <td>65000.0</td>\n      <td>0.0</td>\n      <td>0.0</td>\n      <td>0.0</td>\n      <td>16.06</td>\n      <td>Jul-1995</td>\n      <td>10+ years</td>\n      <td>669.0</td>\n      <td>665.0</td>\n      <td>12000.0</td>\n      <td>MORTGAGE</td>\n      <td>NaN</td>\n      <td>421.83</td>\n      <td>15.99%</td>\n      <td>Nov-2014</td>\n      <td>12000.0</td>\n      <td>5.0</td>\n      <td>81.0</td>\n      <td>NaN</td>\n      <td>6.0</td>\n      <td>0.0</td>\n      <td>2.0</td>\n      <td>15.0</td>\n      <td>12.0</td>\n      <td>0.0</td>\n      <td>0.0</td>\n      <td>0.0</td>\n      <td>4.0</td>\n      <td>12.0</td>\n      <td>NaN</td>\n      <td>NaN</td>\n      <td>50.0</td>\n      <td>3.0</td>\n      <td>2.0</td>\n      <td>debt_consolidation</td>\n      <td>51%</td>\n      <td>0.0</td>\n      <td>36 months</td>\n      <td>Debt consolidation</td>\n      <td>22.0</td>\n      <td>Source Verified</td>\n      <td>613xx</td>\n    </tr>\n    <tr>\n      <th>1037869</th>\n      <td>0.0</td>\n      <td>TX</td>\n      <td>89000.0</td>\n      <td>0.0</td>\n      <td>0.0</td>\n      <td>0.0</td>\n      <td>17.69</td>\n      <td>Feb-1992</td>\n      <td>10+ years</td>\n      <td>724.0</td>\n      <td>720.0</td>\n      <td>28000.0</td>\n      <td>MORTGAGE</td>\n      <td>NaN</td>\n      <td>570.16</td>\n      <td>8.18%</td>\n      <td>Aug-2015</td>\n      <td>28000.0</td>\n      <td>2.0</td>\n      <td>NaN</td>\n      <td>NaN</td>\n      <td>NaN</td>\n      <td>0.0</td>\n      <td>4.0</td>\n      <td>19.0</td>\n      <td>10.0</td>\n      <td>0.0</td>\n      <td>0.0</td>\n      <td>0.0</td>\n      <td>1.0</td>\n      <td>10.0</td>\n      <td>NaN</td>\n      <td>NaN</td>\n      <td>75.0</td>\n      <td>0.0</td>\n      <td>0.0</td>\n      <td>credit_card</td>\n      <td>72.4%</td>\n      <td>0.0</td>\n      <td>60 months</td>\n      <td>Credit card refinancing</td>\n      <td>24.0</td>\n      <td>Not Verified</td>\n      <td>764xx</td>\n    </tr>\n    <tr>\n      <th>159392</th>\n      <td>0.0</td>\n      <td>PA</td>\n      <td>65500.0</td>\n      <td>0.0</td>\n      <td>0.0</td>\n      <td>0.0</td>\n      <td>20.55</td>\n      <td>Oct-2000</td>\n      <td>10+ years</td>\n      <td>719.0</td>\n      <td>715.0</td>\n      <td>8400.0</td>\n      <td>MORTGAGE</td>\n      <td>0.0</td>\n      <td>252.97</td>\n      <td>5.32%</td>\n      <td>Feb-2017</td>\n      <td>8400.0</td>\n      <td>4.0</td>\n      <td>58.0</td>\n      <td>71.0</td>\n      <td>13.0</td>\n      <td>5.0</td>\n      <td>3.0</td>\n      <td>17.0</td>\n      <td>21.0</td>\n      <td>0.0</td>\n      <td>0.0</td>\n      <td>0.0</td>\n      <td>1.0</td>\n      <td>21.0</td>\n      <td>2.0</td>\n      <td>2.0</td>\n      <td>40.0</td>\n      <td>0.0</td>\n      <td>0.0</td>\n      <td>debt_consolidation</td>\n      <td>35%</td>\n      <td>0.0</td>\n      <td>36 months</td>\n      <td>Debt consolidation</td>\n      <td>41.0</td>\n      <td>Not Verified</td>\n      <td>170xx</td>\n    </tr>\n    <tr>\n      <th>...</th>\n      <td>...</td>\n      <td>...</td>\n      <td>...</td>\n      <td>...</td>\n      <td>...</td>\n      <td>...</td>\n      <td>...</td>\n      <td>...</td>\n      <td>...</td>\n      <td>...</td>\n      <td>...</td>\n      <td>...</td>\n      <td>...</td>\n      <td>...</td>\n      <td>...</td>\n      <td>...</td>\n      <td>...</td>\n      <td>...</td>\n      <td>...</td>\n      <td>...</td>\n      <td>...</td>\n      <td>...</td>\n      <td>...</td>\n      <td>...</td>\n      <td>...</td>\n      <td>...</td>\n      <td>...</td>\n      <td>...</td>\n      <td>...</td>\n      <td>...</td>\n      <td>...</td>\n      <td>...</td>\n      <td>...</td>\n      <td>...</td>\n      <td>...</td>\n      <td>...</td>\n      <td>...</td>\n      <td>...</td>\n      <td>...</td>\n      <td>...</td>\n      <td>...</td>\n      <td>...</td>\n      <td>...</td>\n      <td>...</td>\n    </tr>\n    <tr>\n      <th>110268</th>\n      <td>0.0</td>\n      <td>CA</td>\n      <td>176000.0</td>\n      <td>0.0</td>\n      <td>0.0</td>\n      <td>1.0</td>\n      <td>8.26</td>\n      <td>Mar-2002</td>\n      <td>3 years</td>\n      <td>684.0</td>\n      <td>680.0</td>\n      <td>15000.0</td>\n      <td>MORTGAGE</td>\n      <td>NaN</td>\n      <td>466.53</td>\n      <td>7.49%</td>\n      <td>Jan-2015</td>\n      <td>15000.0</td>\n      <td>1.0</td>\n      <td>21.0</td>\n      <td>28.0</td>\n      <td>3.0</td>\n      <td>0.0</td>\n      <td>6.0</td>\n      <td>11.0</td>\n      <td>9.0</td>\n      <td>0.0</td>\n      <td>0.0</td>\n      <td>0.0</td>\n      <td>1.0</td>\n      <td>9.0</td>\n      <td>NaN</td>\n      <td>NaN</td>\n      <td>16.7</td>\n      <td>0.0</td>\n      <td>0.0</td>\n      <td>credit_card</td>\n      <td>59.7%</td>\n      <td>0.0</td>\n      <td>36 months</td>\n      <td>Credit card refinancing</td>\n      <td>17.0</td>\n      <td>Not Verified</td>\n      <td>902xx</td>\n    </tr>\n    <tr>\n      <th>259178</th>\n      <td>0.0</td>\n      <td>WA</td>\n      <td>190000.0</td>\n      <td>0.0</td>\n      <td>0.0</td>\n      <td>0.0</td>\n      <td>6.02</td>\n      <td>Aug-1999</td>\n      <td>10+ years</td>\n      <td>679.0</td>\n      <td>675.0</td>\n      <td>35000.0</td>\n      <td>RENT</td>\n      <td>NaN</td>\n      <td>1262.88</td>\n      <td>17.86%</td>\n      <td>Nov-2015</td>\n      <td>35000.0</td>\n      <td>1.0</td>\n      <td>NaN</td>\n      <td>NaN</td>\n      <td>1.0</td>\n      <td>0.0</td>\n      <td>4.0</td>\n      <td>8.0</td>\n      <td>5.0</td>\n      <td>0.0</td>\n      <td>0.0</td>\n      <td>0.0</td>\n      <td>1.0</td>\n      <td>5.0</td>\n      <td>NaN</td>\n      <td>NaN</td>\n      <td>100.0</td>\n      <td>0.0</td>\n      <td>0.0</td>\n      <td>debt_consolidation</td>\n      <td>98%</td>\n      <td>0.0</td>\n      <td>36 months</td>\n      <td>Debt consolidation</td>\n      <td>10.0</td>\n      <td>Source Verified</td>\n      <td>993xx</td>\n    </tr>\n    <tr>\n      <th>131932</th>\n      <td>0.0</td>\n      <td>NJ</td>\n      <td>25000.0</td>\n      <td>0.0</td>\n      <td>0.0</td>\n      <td>0.0</td>\n      <td>16.51</td>\n      <td>Apr-2003</td>\n      <td>1 year</td>\n      <td>684.0</td>\n      <td>680.0</td>\n      <td>7000.0</td>\n      <td>RENT</td>\n      <td>NaN</td>\n      <td>234.82</td>\n      <td>12.69%</td>\n      <td>Oct-2011</td>\n      <td>7000.0</td>\n      <td>NaN</td>\n      <td>NaN</td>\n      <td>NaN</td>\n      <td>NaN</td>\n      <td>NaN</td>\n      <td>NaN</td>\n      <td>NaN</td>\n      <td>NaN</td>\n      <td>NaN</td>\n      <td>NaN</td>\n      <td>NaN</td>\n      <td>NaN</td>\n      <td>20.0</td>\n      <td>NaN</td>\n      <td>NaN</td>\n      <td>NaN</td>\n      <td>0.0</td>\n      <td>0.0</td>\n      <td>debt_consolidation</td>\n      <td>54.2%</td>\n      <td>0.0</td>\n      <td>36 months</td>\n      <td>Debt Consolidation</td>\n      <td>24.0</td>\n      <td>Not Verified</td>\n      <td>087xx</td>\n    </tr>\n    <tr>\n      <th>671155</th>\n      <td>0.0</td>\n      <td>MN</td>\n      <td>82000.0</td>\n      <td>0.0</td>\n      <td>0.0</td>\n      <td>0.0</td>\n      <td>24.81</td>\n      <td>Jun-1999</td>\n      <td>1 year</td>\n      <td>779.0</td>\n      <td>775.0</td>\n      <td>40000.0</td>\n      <td>MORTGAGE</td>\n      <td>1.0</td>\n      <td>870.10</td>\n      <td>11.02%</td>\n      <td>Oct-2019</td>\n      <td>40000.0</td>\n      <td>2.0</td>\n      <td>NaN</td>\n      <td>NaN</td>\n      <td>3.0</td>\n      <td>0.0</td>\n      <td>6.0</td>\n      <td>32.0</td>\n      <td>24.0</td>\n      <td>0.0</td>\n      <td>0.0</td>\n      <td>0.0</td>\n      <td>1.0</td>\n      <td>24.0</td>\n      <td>1.0</td>\n      <td>2.0</td>\n      <td>7.7</td>\n      <td>0.0</td>\n      <td>0.0</td>\n      <td>debt_consolidation</td>\n      <td>11.8%</td>\n      <td>0.0</td>\n      <td>60 months</td>\n      <td>Debt consolidation</td>\n      <td>43.0</td>\n      <td>Source Verified</td>\n      <td>553xx</td>\n    </tr>\n    <tr>\n      <th>121958</th>\n      <td>0.0</td>\n      <td>FL</td>\n      <td>34000.0</td>\n      <td>0.0</td>\n      <td>0.0</td>\n      <td>0.0</td>\n      <td>23.44</td>\n      <td>Apr-2001</td>\n      <td>10+ years</td>\n      <td>704.0</td>\n      <td>700.0</td>\n      <td>6075.0</td>\n      <td>MORTGAGE</td>\n      <td>1.0</td>\n      <td>193.16</td>\n      <td>8.99%</td>\n      <td>Jun-2016</td>\n      <td>6075.0</td>\n      <td>2.0</td>\n      <td>70.0</td>\n      <td>70.0</td>\n      <td>7.0</td>\n      <td>2.0</td>\n      <td>6.0</td>\n      <td>14.0</td>\n      <td>12.0</td>\n      <td>0.0</td>\n      <td>0.0</td>\n      <td>0.0</td>\n      <td>2.0</td>\n      <td>12.0</td>\n      <td>2.0</td>\n      <td>2.0</td>\n      <td>33.3</td>\n      <td>0.0</td>\n      <td>0.0</td>\n      <td>car</td>\n      <td>54.2%</td>\n      <td>0.0</td>\n      <td>36 months</td>\n      <td>Car financing</td>\n      <td>25.0</td>\n      <td>Verified</td>\n      <td>346xx</td>\n    </tr>\n  </tbody>\n</table>\n<p>959888 rows × 44 columns</p>\n</div>"
     },
     "metadata": {},
     "output_type": "display_data"
    }
   ]
  },
  {
   "cell_type": "code",
   "source": [
    "X_train.info();"
   ],
   "metadata": {
    "collapsed": false,
    "jupyter": {
     "outputs_hidden": false
    },
    "execution": {
     "iopub.status.busy": "2023-08-17T20:31:43.873035Z",
     "iopub.execute_input": "2023-08-17T20:31:43.873389Z",
     "iopub.status.idle": "2023-08-17T20:31:47.526616Z",
     "shell.execute_reply.started": "2023-08-17T20:31:43.873355Z",
     "shell.execute_reply": "2023-08-17T20:31:47.525555Z"
    },
    "trusted": true,
    "ExecuteTime": {
     "end_time": "2023-08-26T16:09:58.742810900Z",
     "start_time": "2023-08-26T16:09:56.471849900Z"
    }
   },
   "execution_count": 8,
   "outputs": [
    {
     "name": "stdout",
     "output_type": "stream",
     "text": [
      "<class 'pandas.core.frame.DataFrame'>\n",
      "Int64Index: 959888 entries, 1030569 to 121958\n",
      "Data columns (total 44 columns):\n",
      " #   Column                      Non-Null Count   Dtype  \n",
      "---  ------                      --------------   -----  \n",
      " 0   acc_now_delinq              959888 non-null  float64\n",
      " 1   addr_state                  959888 non-null  object \n",
      " 2   annual_inc                  959888 non-null  float64\n",
      " 3   chargeoff_within_12_mths    959859 non-null  float64\n",
      " 4   collections_12_mths_ex_med  959859 non-null  float64\n",
      " 5   delinq_2yrs                 959888 non-null  float64\n",
      " 6   dti                         959888 non-null  float64\n",
      " 7   earliest_cr_line            959888 non-null  object \n",
      " 8   emp_length                  902451 non-null  object \n",
      " 9   fico_range_high             959888 non-null  float64\n",
      " 10  fico_range_low              959888 non-null  float64\n",
      " 11  funded_amnt                 959888 non-null  float64\n",
      " 12  home_ownership              959888 non-null  object \n",
      " 13  inq_last_12m                506207 non-null  float64\n",
      " 14  installment                 959888 non-null  float64\n",
      " 15  int_rate                    959888 non-null  object \n",
      " 16  issue_d                     959888 non-null  object \n",
      " 17  loan_amnt                   959888 non-null  float64\n",
      " 18  mort_acc                    934600 non-null  float64\n",
      " 19  mths_since_last_delinq      474079 non-null  float64\n",
      " 20  mths_since_recent_bc_dlq    226377 non-null  float64\n",
      " 21  mths_since_recent_inq       839986 non-null  float64\n",
      " 22  num_accts_ever_120_pd       923838 non-null  float64\n",
      " 23  num_actv_bc_tl              923838 non-null  float64\n",
      " 24  num_rev_accts               923838 non-null  float64\n",
      " 25  num_sats                    929990 non-null  float64\n",
      " 26  num_tl_120dpd_2m            887363 non-null  float64\n",
      " 27  num_tl_30dpd                923838 non-null  float64\n",
      " 28  num_tl_90g_dpd_24m          923838 non-null  float64\n",
      " 29  num_tl_op_past_12m          923838 non-null  float64\n",
      " 30  open_acc                    959888 non-null  float64\n",
      " 31  open_il_24m                 506208 non-null  float64\n",
      " 32  open_rv_24m                 506208 non-null  float64\n",
      " 33  percent_bc_gt_75            924361 non-null  float64\n",
      " 34  pub_rec                     959888 non-null  float64\n",
      " 35  pub_rec_bankruptcies        959514 non-null  float64\n",
      " 36  purpose                     959888 non-null  object \n",
      " 37  revol_util                  959210 non-null  object \n",
      " 38  tax_liens                   959865 non-null  float64\n",
      " 39  term                        959888 non-null  object \n",
      " 40  title                       948910 non-null  object \n",
      " 41  total_acc                   959888 non-null  float64\n",
      " 42  verification_status         959888 non-null  object \n",
      " 43  zip_code                    959887 non-null  object \n",
      "dtypes: float64(32), object(12)\n",
      "memory usage: 329.6+ MB\n"
     ]
    }
   ]
  },
  {
   "cell_type": "code",
   "source": [
    "y_train.info();"
   ],
   "metadata": {
    "collapsed": false,
    "jupyter": {
     "outputs_hidden": false
    },
    "execution": {
     "iopub.status.busy": "2023-08-17T20:31:49.688702Z",
     "iopub.execute_input": "2023-08-17T20:31:49.689375Z",
     "iopub.status.idle": "2023-08-17T20:31:49.701860Z",
     "shell.execute_reply.started": "2023-08-17T20:31:49.689337Z",
     "shell.execute_reply": "2023-08-17T20:31:49.700564Z"
    },
    "trusted": true,
    "ExecuteTime": {
     "end_time": "2023-08-26T16:09:58.808768700Z",
     "start_time": "2023-08-26T16:09:58.746808900Z"
    }
   },
   "execution_count": 9,
   "outputs": [
    {
     "name": "stdout",
     "output_type": "stream",
     "text": [
      "<class 'pandas.core.frame.DataFrame'>\n",
      "Int64Index: 959888 entries, 1030569 to 121958\n",
      "Data columns (total 1 columns):\n",
      " #   Column       Non-Null Count   Dtype\n",
      "---  ------       --------------   -----\n",
      " 0   loan_status  959888 non-null  int64\n",
      "dtypes: int64(1)\n",
      "memory usage: 14.6 MB\n"
     ]
    }
   ]
  },
  {
   "cell_type": "code",
   "source": [
    "month_dict = {'Jan': '1', 'Feb': '2', 'Mar': '3', 'Apr': '4', 'May': '5', 'Jun': '6',\n",
    "                  'Jul': '7', 'Aug': '8', 'Sep': '9', 'Oct': '10', 'Nov': '11', 'Dec': '12'}\n",
    "\n",
    "def transform_date_features(X_dataset, feature_name):\n",
    "    feature_name_month = feature_name + '_month'\n",
    "    feature_name_year = feature_name + '_year'\n",
    "    # Split into months and years\n",
    "    X_dataset[[feature_name_month, feature_name_year]] = X_dataset[feature_name].str.split('-', 1, expand=True)\n",
    "    # Convert feature to numeric\n",
    "    X_dataset[feature_name_year] = pd.to_numeric(X_dataset[feature_name_year])\n",
    "\n",
    "    X_dataset[feature_name_month] = X_dataset[feature_name_month].map(month_dict)\n",
    "    X_dataset[feature_name_month] = pd.to_numeric(X_dataset[feature_name_month])\n",
    "\n",
    "    X_dataset.drop(feature_name, axis=1, inplace=True)"
   ],
   "metadata": {
    "collapsed": false,
    "jupyter": {
     "outputs_hidden": false
    },
    "execution": {
     "iopub.status.busy": "2023-08-17T20:31:49.703148Z",
     "iopub.execute_input": "2023-08-17T20:31:49.703443Z",
     "iopub.status.idle": "2023-08-17T20:31:49.711283Z",
     "shell.execute_reply.started": "2023-08-17T20:31:49.703417Z",
     "shell.execute_reply": "2023-08-17T20:31:49.710216Z"
    },
    "trusted": true,
    "ExecuteTime": {
     "end_time": "2023-08-26T16:09:58.814765700Z",
     "start_time": "2023-08-26T16:09:58.765796500Z"
    }
   },
   "execution_count": 10,
   "outputs": []
  },
  {
   "cell_type": "code",
   "source": [
    "for X_dataset in X_datasets:\n",
    "    transform_date_features(X_dataset, 'earliest_cr_line');\n",
    "    transform_date_features(X_dataset, 'issue_d');"
   ],
   "metadata": {
    "collapsed": false,
    "jupyter": {
     "outputs_hidden": false
    },
    "execution": {
     "iopub.status.busy": "2023-08-17T20:31:49.712733Z",
     "iopub.execute_input": "2023-08-17T20:31:49.713317Z",
     "iopub.status.idle": "2023-08-17T20:32:09.051494Z",
     "shell.execute_reply.started": "2023-08-17T20:31:49.713254Z",
     "shell.execute_reply": "2023-08-17T20:32:09.050645Z"
    },
    "trusted": true,
    "ExecuteTime": {
     "end_time": "2023-08-26T16:10:14.353016800Z",
     "start_time": "2023-08-26T16:09:58.779790Z"
    }
   },
   "execution_count": 11,
   "outputs": [
    {
     "name": "stderr",
     "output_type": "stream",
     "text": [
      "C:\\Users\\gusak\\AppData\\Local\\Temp\\ipykernel_7772\\4252340021.py:8: FutureWarning: In a future version of pandas all arguments of StringMethods.split except for the argument 'pat' will be keyword-only.\n",
      "  X_dataset[[feature_name_month, feature_name_year]] = X_dataset[feature_name].str.split('-', 1, expand=True)\n",
      "C:\\Users\\gusak\\AppData\\Local\\Temp\\ipykernel_7772\\4252340021.py:8: FutureWarning: In a future version of pandas all arguments of StringMethods.split except for the argument 'pat' will be keyword-only.\n",
      "  X_dataset[[feature_name_month, feature_name_year]] = X_dataset[feature_name].str.split('-', 1, expand=True)\n",
      "C:\\Users\\gusak\\AppData\\Local\\Temp\\ipykernel_7772\\4252340021.py:8: FutureWarning: In a future version of pandas all arguments of StringMethods.split except for the argument 'pat' will be keyword-only.\n",
      "  X_dataset[[feature_name_month, feature_name_year]] = X_dataset[feature_name].str.split('-', 1, expand=True)\n",
      "C:\\Users\\gusak\\AppData\\Local\\Temp\\ipykernel_7772\\4252340021.py:8: FutureWarning: In a future version of pandas all arguments of StringMethods.split except for the argument 'pat' will be keyword-only.\n",
      "  X_dataset[[feature_name_month, feature_name_year]] = X_dataset[feature_name].str.split('-', 1, expand=True)\n",
      "C:\\Users\\gusak\\AppData\\Local\\Temp\\ipykernel_7772\\4252340021.py:8: FutureWarning: In a future version of pandas all arguments of StringMethods.split except for the argument 'pat' will be keyword-only.\n",
      "  X_dataset[[feature_name_month, feature_name_year]] = X_dataset[feature_name].str.split('-', 1, expand=True)\n",
      "C:\\Users\\gusak\\AppData\\Local\\Temp\\ipykernel_7772\\4252340021.py:8: FutureWarning: In a future version of pandas all arguments of StringMethods.split except for the argument 'pat' will be keyword-only.\n",
      "  X_dataset[[feature_name_month, feature_name_year]] = X_dataset[feature_name].str.split('-', 1, expand=True)\n"
     ]
    }
   ]
  },
  {
   "cell_type": "code",
   "source": [
    "display(X_train)"
   ],
   "metadata": {
    "collapsed": false,
    "jupyter": {
     "outputs_hidden": false
    },
    "execution": {
     "iopub.status.busy": "2023-08-17T20:32:09.060278Z",
     "iopub.execute_input": "2023-08-17T20:32:09.060565Z",
     "iopub.status.idle": "2023-08-17T20:32:09.142499Z",
     "shell.execute_reply.started": "2023-08-17T20:32:09.060540Z",
     "shell.execute_reply": "2023-08-17T20:32:09.141520Z"
    },
    "trusted": true,
    "ExecuteTime": {
     "end_time": "2023-08-26T16:10:14.435488400Z",
     "start_time": "2023-08-26T16:10:14.354016900Z"
    }
   },
   "execution_count": 12,
   "outputs": [
    {
     "data": {
      "text/plain": "         acc_now_delinq addr_state  annual_inc  chargeoff_within_12_mths  \\\nindex                                                                      \n1030569             0.0         MS     90000.0                       0.0   \n965737              0.0         MD     95000.0                       0.0   \n151079              0.0         IL     65000.0                       0.0   \n1037869             0.0         TX     89000.0                       0.0   \n159392              0.0         PA     65500.0                       0.0   \n...                 ...        ...         ...                       ...   \n110268              0.0         CA    176000.0                       0.0   \n259178              0.0         WA    190000.0                       0.0   \n131932              0.0         NJ     25000.0                       0.0   \n671155              0.0         MN     82000.0                       0.0   \n121958              0.0         FL     34000.0                       0.0   \n\n         collections_12_mths_ex_med  delinq_2yrs    dti emp_length  \\\nindex                                                                \n1030569                         0.0          4.0  23.23    8 years   \n965737                          0.0          0.0  13.54    6 years   \n151079                          0.0          0.0  16.06  10+ years   \n1037869                         0.0          0.0  17.69  10+ years   \n159392                          0.0          0.0  20.55  10+ years   \n...                             ...          ...    ...        ...   \n110268                          0.0          1.0   8.26    3 years   \n259178                          0.0          0.0   6.02  10+ years   \n131932                          0.0          0.0  16.51     1 year   \n671155                          0.0          0.0  24.81     1 year   \n121958                          0.0          0.0  23.44  10+ years   \n\n         fico_range_high  fico_range_low  funded_amnt home_ownership  \\\nindex                                                                  \n1030569            669.0           665.0      13850.0       MORTGAGE   \n965737             704.0           700.0      21000.0            OWN   \n151079             669.0           665.0      12000.0       MORTGAGE   \n1037869            724.0           720.0      28000.0       MORTGAGE   \n159392             719.0           715.0       8400.0       MORTGAGE   \n...                  ...             ...          ...            ...   \n110268             684.0           680.0      15000.0       MORTGAGE   \n259178             679.0           675.0      35000.0           RENT   \n131932             684.0           680.0       7000.0           RENT   \n671155             779.0           775.0      40000.0       MORTGAGE   \n121958             704.0           700.0       6075.0       MORTGAGE   \n\n         inq_last_12m  installment int_rate  loan_amnt  mort_acc  \\\nindex                                                              \n1030569           NaN       502.45   18.25%    13850.0       1.0   \n965737            NaN       707.48   12.99%    21000.0       0.0   \n151079            NaN       421.83   15.99%    12000.0       5.0   \n1037869           NaN       570.16    8.18%    28000.0       2.0   \n159392            0.0       252.97    5.32%     8400.0       4.0   \n...               ...          ...      ...        ...       ...   \n110268            NaN       466.53    7.49%    15000.0       1.0   \n259178            NaN      1262.88   17.86%    35000.0       1.0   \n131932            NaN       234.82   12.69%     7000.0       NaN   \n671155            1.0       870.10   11.02%    40000.0       2.0   \n121958            1.0       193.16    8.99%     6075.0       2.0   \n\n         mths_since_last_delinq  mths_since_recent_bc_dlq  \\\nindex                                                       \n1030569                     2.0                       NaN   \n965737                      NaN                       NaN   \n151079                     81.0                       NaN   \n1037869                     NaN                       NaN   \n159392                     58.0                      71.0   \n...                         ...                       ...   \n110268                     21.0                      28.0   \n259178                      NaN                       NaN   \n131932                      NaN                       NaN   \n671155                      NaN                       NaN   \n121958                     70.0                      70.0   \n\n         mths_since_recent_inq  num_accts_ever_120_pd  num_actv_bc_tl  \\\nindex                                                                   \n1030569                    7.0                    1.0             3.0   \n965737                     2.0                    0.0             3.0   \n151079                     6.0                    0.0             2.0   \n1037869                    NaN                    0.0             4.0   \n159392                    13.0                    5.0             3.0   \n...                        ...                    ...             ...   \n110268                     3.0                    0.0             6.0   \n259178                     1.0                    0.0             4.0   \n131932                     NaN                    NaN             NaN   \n671155                     3.0                    0.0             6.0   \n121958                     7.0                    2.0             6.0   \n\n         num_rev_accts  num_sats  num_tl_120dpd_2m  num_tl_30dpd  \\\nindex                                                              \n1030569            5.0      12.0               0.0           0.0   \n965737            10.0       9.0               0.0           0.0   \n151079            15.0      12.0               0.0           0.0   \n1037869           19.0      10.0               0.0           0.0   \n159392            17.0      21.0               0.0           0.0   \n...                ...       ...               ...           ...   \n110268            11.0       9.0               0.0           0.0   \n259178             8.0       5.0               0.0           0.0   \n131932             NaN       NaN               NaN           NaN   \n671155            32.0      24.0               0.0           0.0   \n121958            14.0      12.0               0.0           0.0   \n\n         num_tl_90g_dpd_24m  num_tl_op_past_12m  open_acc  open_il_24m  \\\nindex                                                                    \n1030569                 1.0                 2.0      12.0          NaN   \n965737                  0.0                 1.0       9.0          NaN   \n151079                  0.0                 4.0      12.0          NaN   \n1037869                 0.0                 1.0      10.0          NaN   \n159392                  0.0                 1.0      21.0          2.0   \n...                     ...                 ...       ...          ...   \n110268                  0.0                 1.0       9.0          NaN   \n259178                  0.0                 1.0       5.0          NaN   \n131932                  NaN                 NaN      20.0          NaN   \n671155                  0.0                 1.0      24.0          1.0   \n121958                  0.0                 2.0      12.0          2.0   \n\n         open_rv_24m  percent_bc_gt_75  pub_rec  pub_rec_bankruptcies  \\\nindex                                                                   \n1030569          NaN             100.0      0.0                   0.0   \n965737           NaN              33.3      0.0                   0.0   \n151079           NaN              50.0      3.0                   2.0   \n1037869          NaN              75.0      0.0                   0.0   \n159392           2.0              40.0      0.0                   0.0   \n...              ...               ...      ...                   ...   \n110268           NaN              16.7      0.0                   0.0   \n259178           NaN             100.0      0.0                   0.0   \n131932           NaN               NaN      0.0                   0.0   \n671155           2.0               7.7      0.0                   0.0   \n121958           2.0              33.3      0.0                   0.0   \n\n                    purpose revol_util  tax_liens        term  \\\nindex                                                           \n1030569    home_improvement      27.3%        0.0   36 months   \n965737   debt_consolidation      60.3%        0.0   36 months   \n151079   debt_consolidation        51%        0.0   36 months   \n1037869         credit_card      72.4%        0.0   60 months   \n159392   debt_consolidation        35%        0.0   36 months   \n...                     ...        ...        ...         ...   \n110268          credit_card      59.7%        0.0   36 months   \n259178   debt_consolidation        98%        0.0   36 months   \n131932   debt_consolidation      54.2%        0.0   36 months   \n671155   debt_consolidation      11.8%        0.0   60 months   \n121958                  car      54.2%        0.0   36 months   \n\n                           title  total_acc verification_status zip_code  \\\nindex                                                                      \n1030569         Home improvement       17.0            Verified    386xx   \n965737        Debt consolidation       15.0     Source Verified    207xx   \n151079        Debt consolidation       22.0     Source Verified    613xx   \n1037869  Credit card refinancing       24.0        Not Verified    764xx   \n159392        Debt consolidation       41.0        Not Verified    170xx   \n...                          ...        ...                 ...      ...   \n110268   Credit card refinancing       17.0        Not Verified    902xx   \n259178        Debt consolidation       10.0     Source Verified    993xx   \n131932        Debt Consolidation       24.0        Not Verified    087xx   \n671155        Debt consolidation       43.0     Source Verified    553xx   \n121958             Car financing       25.0            Verified    346xx   \n\n         earliest_cr_line_month  earliest_cr_line_year  issue_d_month  \\\nindex                                                                   \n1030569                       3                   2007              7   \n965737                        4                   2006              3   \n151079                        7                   1995             11   \n1037869                       2                   1992              8   \n159392                       10                   2000              2   \n...                         ...                    ...            ...   \n110268                        3                   2002              1   \n259178                        8                   1999             11   \n131932                        4                   2003             10   \n671155                        6                   1999             10   \n121958                        4                   2001              6   \n\n         issue_d_year  \nindex                  \n1030569          2015  \n965737           2014  \n151079           2014  \n1037869          2015  \n159392           2017  \n...               ...  \n110268           2015  \n259178           2015  \n131932           2011  \n671155           2019  \n121958           2016  \n\n[959888 rows x 46 columns]",
      "text/html": "<div>\n<style scoped>\n    .dataframe tbody tr th:only-of-type {\n        vertical-align: middle;\n    }\n\n    .dataframe tbody tr th {\n        vertical-align: top;\n    }\n\n    .dataframe thead th {\n        text-align: right;\n    }\n</style>\n<table border=\"1\" class=\"dataframe\">\n  <thead>\n    <tr style=\"text-align: right;\">\n      <th></th>\n      <th>acc_now_delinq</th>\n      <th>addr_state</th>\n      <th>annual_inc</th>\n      <th>chargeoff_within_12_mths</th>\n      <th>collections_12_mths_ex_med</th>\n      <th>delinq_2yrs</th>\n      <th>dti</th>\n      <th>emp_length</th>\n      <th>fico_range_high</th>\n      <th>fico_range_low</th>\n      <th>funded_amnt</th>\n      <th>home_ownership</th>\n      <th>inq_last_12m</th>\n      <th>installment</th>\n      <th>int_rate</th>\n      <th>loan_amnt</th>\n      <th>mort_acc</th>\n      <th>mths_since_last_delinq</th>\n      <th>mths_since_recent_bc_dlq</th>\n      <th>mths_since_recent_inq</th>\n      <th>num_accts_ever_120_pd</th>\n      <th>num_actv_bc_tl</th>\n      <th>num_rev_accts</th>\n      <th>num_sats</th>\n      <th>num_tl_120dpd_2m</th>\n      <th>num_tl_30dpd</th>\n      <th>num_tl_90g_dpd_24m</th>\n      <th>num_tl_op_past_12m</th>\n      <th>open_acc</th>\n      <th>open_il_24m</th>\n      <th>open_rv_24m</th>\n      <th>percent_bc_gt_75</th>\n      <th>pub_rec</th>\n      <th>pub_rec_bankruptcies</th>\n      <th>purpose</th>\n      <th>revol_util</th>\n      <th>tax_liens</th>\n      <th>term</th>\n      <th>title</th>\n      <th>total_acc</th>\n      <th>verification_status</th>\n      <th>zip_code</th>\n      <th>earliest_cr_line_month</th>\n      <th>earliest_cr_line_year</th>\n      <th>issue_d_month</th>\n      <th>issue_d_year</th>\n    </tr>\n    <tr>\n      <th>index</th>\n      <th></th>\n      <th></th>\n      <th></th>\n      <th></th>\n      <th></th>\n      <th></th>\n      <th></th>\n      <th></th>\n      <th></th>\n      <th></th>\n      <th></th>\n      <th></th>\n      <th></th>\n      <th></th>\n      <th></th>\n      <th></th>\n      <th></th>\n      <th></th>\n      <th></th>\n      <th></th>\n      <th></th>\n      <th></th>\n      <th></th>\n      <th></th>\n      <th></th>\n      <th></th>\n      <th></th>\n      <th></th>\n      <th></th>\n      <th></th>\n      <th></th>\n      <th></th>\n      <th></th>\n      <th></th>\n      <th></th>\n      <th></th>\n      <th></th>\n      <th></th>\n      <th></th>\n      <th></th>\n      <th></th>\n      <th></th>\n      <th></th>\n      <th></th>\n      <th></th>\n      <th></th>\n    </tr>\n  </thead>\n  <tbody>\n    <tr>\n      <th>1030569</th>\n      <td>0.0</td>\n      <td>MS</td>\n      <td>90000.0</td>\n      <td>0.0</td>\n      <td>0.0</td>\n      <td>4.0</td>\n      <td>23.23</td>\n      <td>8 years</td>\n      <td>669.0</td>\n      <td>665.0</td>\n      <td>13850.0</td>\n      <td>MORTGAGE</td>\n      <td>NaN</td>\n      <td>502.45</td>\n      <td>18.25%</td>\n      <td>13850.0</td>\n      <td>1.0</td>\n      <td>2.0</td>\n      <td>NaN</td>\n      <td>7.0</td>\n      <td>1.0</td>\n      <td>3.0</td>\n      <td>5.0</td>\n      <td>12.0</td>\n      <td>0.0</td>\n      <td>0.0</td>\n      <td>1.0</td>\n      <td>2.0</td>\n      <td>12.0</td>\n      <td>NaN</td>\n      <td>NaN</td>\n      <td>100.0</td>\n      <td>0.0</td>\n      <td>0.0</td>\n      <td>home_improvement</td>\n      <td>27.3%</td>\n      <td>0.0</td>\n      <td>36 months</td>\n      <td>Home improvement</td>\n      <td>17.0</td>\n      <td>Verified</td>\n      <td>386xx</td>\n      <td>3</td>\n      <td>2007</td>\n      <td>7</td>\n      <td>2015</td>\n    </tr>\n    <tr>\n      <th>965737</th>\n      <td>0.0</td>\n      <td>MD</td>\n      <td>95000.0</td>\n      <td>0.0</td>\n      <td>0.0</td>\n      <td>0.0</td>\n      <td>13.54</td>\n      <td>6 years</td>\n      <td>704.0</td>\n      <td>700.0</td>\n      <td>21000.0</td>\n      <td>OWN</td>\n      <td>NaN</td>\n      <td>707.48</td>\n      <td>12.99%</td>\n      <td>21000.0</td>\n      <td>0.0</td>\n      <td>NaN</td>\n      <td>NaN</td>\n      <td>2.0</td>\n      <td>0.0</td>\n      <td>3.0</td>\n      <td>10.0</td>\n      <td>9.0</td>\n      <td>0.0</td>\n      <td>0.0</td>\n      <td>0.0</td>\n      <td>1.0</td>\n      <td>9.0</td>\n      <td>NaN</td>\n      <td>NaN</td>\n      <td>33.3</td>\n      <td>0.0</td>\n      <td>0.0</td>\n      <td>debt_consolidation</td>\n      <td>60.3%</td>\n      <td>0.0</td>\n      <td>36 months</td>\n      <td>Debt consolidation</td>\n      <td>15.0</td>\n      <td>Source Verified</td>\n      <td>207xx</td>\n      <td>4</td>\n      <td>2006</td>\n      <td>3</td>\n      <td>2014</td>\n    </tr>\n    <tr>\n      <th>151079</th>\n      <td>0.0</td>\n      <td>IL</td>\n      <td>65000.0</td>\n      <td>0.0</td>\n      <td>0.0</td>\n      <td>0.0</td>\n      <td>16.06</td>\n      <td>10+ years</td>\n      <td>669.0</td>\n      <td>665.0</td>\n      <td>12000.0</td>\n      <td>MORTGAGE</td>\n      <td>NaN</td>\n      <td>421.83</td>\n      <td>15.99%</td>\n      <td>12000.0</td>\n      <td>5.0</td>\n      <td>81.0</td>\n      <td>NaN</td>\n      <td>6.0</td>\n      <td>0.0</td>\n      <td>2.0</td>\n      <td>15.0</td>\n      <td>12.0</td>\n      <td>0.0</td>\n      <td>0.0</td>\n      <td>0.0</td>\n      <td>4.0</td>\n      <td>12.0</td>\n      <td>NaN</td>\n      <td>NaN</td>\n      <td>50.0</td>\n      <td>3.0</td>\n      <td>2.0</td>\n      <td>debt_consolidation</td>\n      <td>51%</td>\n      <td>0.0</td>\n      <td>36 months</td>\n      <td>Debt consolidation</td>\n      <td>22.0</td>\n      <td>Source Verified</td>\n      <td>613xx</td>\n      <td>7</td>\n      <td>1995</td>\n      <td>11</td>\n      <td>2014</td>\n    </tr>\n    <tr>\n      <th>1037869</th>\n      <td>0.0</td>\n      <td>TX</td>\n      <td>89000.0</td>\n      <td>0.0</td>\n      <td>0.0</td>\n      <td>0.0</td>\n      <td>17.69</td>\n      <td>10+ years</td>\n      <td>724.0</td>\n      <td>720.0</td>\n      <td>28000.0</td>\n      <td>MORTGAGE</td>\n      <td>NaN</td>\n      <td>570.16</td>\n      <td>8.18%</td>\n      <td>28000.0</td>\n      <td>2.0</td>\n      <td>NaN</td>\n      <td>NaN</td>\n      <td>NaN</td>\n      <td>0.0</td>\n      <td>4.0</td>\n      <td>19.0</td>\n      <td>10.0</td>\n      <td>0.0</td>\n      <td>0.0</td>\n      <td>0.0</td>\n      <td>1.0</td>\n      <td>10.0</td>\n      <td>NaN</td>\n      <td>NaN</td>\n      <td>75.0</td>\n      <td>0.0</td>\n      <td>0.0</td>\n      <td>credit_card</td>\n      <td>72.4%</td>\n      <td>0.0</td>\n      <td>60 months</td>\n      <td>Credit card refinancing</td>\n      <td>24.0</td>\n      <td>Not Verified</td>\n      <td>764xx</td>\n      <td>2</td>\n      <td>1992</td>\n      <td>8</td>\n      <td>2015</td>\n    </tr>\n    <tr>\n      <th>159392</th>\n      <td>0.0</td>\n      <td>PA</td>\n      <td>65500.0</td>\n      <td>0.0</td>\n      <td>0.0</td>\n      <td>0.0</td>\n      <td>20.55</td>\n      <td>10+ years</td>\n      <td>719.0</td>\n      <td>715.0</td>\n      <td>8400.0</td>\n      <td>MORTGAGE</td>\n      <td>0.0</td>\n      <td>252.97</td>\n      <td>5.32%</td>\n      <td>8400.0</td>\n      <td>4.0</td>\n      <td>58.0</td>\n      <td>71.0</td>\n      <td>13.0</td>\n      <td>5.0</td>\n      <td>3.0</td>\n      <td>17.0</td>\n      <td>21.0</td>\n      <td>0.0</td>\n      <td>0.0</td>\n      <td>0.0</td>\n      <td>1.0</td>\n      <td>21.0</td>\n      <td>2.0</td>\n      <td>2.0</td>\n      <td>40.0</td>\n      <td>0.0</td>\n      <td>0.0</td>\n      <td>debt_consolidation</td>\n      <td>35%</td>\n      <td>0.0</td>\n      <td>36 months</td>\n      <td>Debt consolidation</td>\n      <td>41.0</td>\n      <td>Not Verified</td>\n      <td>170xx</td>\n      <td>10</td>\n      <td>2000</td>\n      <td>2</td>\n      <td>2017</td>\n    </tr>\n    <tr>\n      <th>...</th>\n      <td>...</td>\n      <td>...</td>\n      <td>...</td>\n      <td>...</td>\n      <td>...</td>\n      <td>...</td>\n      <td>...</td>\n      <td>...</td>\n      <td>...</td>\n      <td>...</td>\n      <td>...</td>\n      <td>...</td>\n      <td>...</td>\n      <td>...</td>\n      <td>...</td>\n      <td>...</td>\n      <td>...</td>\n      <td>...</td>\n      <td>...</td>\n      <td>...</td>\n      <td>...</td>\n      <td>...</td>\n      <td>...</td>\n      <td>...</td>\n      <td>...</td>\n      <td>...</td>\n      <td>...</td>\n      <td>...</td>\n      <td>...</td>\n      <td>...</td>\n      <td>...</td>\n      <td>...</td>\n      <td>...</td>\n      <td>...</td>\n      <td>...</td>\n      <td>...</td>\n      <td>...</td>\n      <td>...</td>\n      <td>...</td>\n      <td>...</td>\n      <td>...</td>\n      <td>...</td>\n      <td>...</td>\n      <td>...</td>\n      <td>...</td>\n      <td>...</td>\n    </tr>\n    <tr>\n      <th>110268</th>\n      <td>0.0</td>\n      <td>CA</td>\n      <td>176000.0</td>\n      <td>0.0</td>\n      <td>0.0</td>\n      <td>1.0</td>\n      <td>8.26</td>\n      <td>3 years</td>\n      <td>684.0</td>\n      <td>680.0</td>\n      <td>15000.0</td>\n      <td>MORTGAGE</td>\n      <td>NaN</td>\n      <td>466.53</td>\n      <td>7.49%</td>\n      <td>15000.0</td>\n      <td>1.0</td>\n      <td>21.0</td>\n      <td>28.0</td>\n      <td>3.0</td>\n      <td>0.0</td>\n      <td>6.0</td>\n      <td>11.0</td>\n      <td>9.0</td>\n      <td>0.0</td>\n      <td>0.0</td>\n      <td>0.0</td>\n      <td>1.0</td>\n      <td>9.0</td>\n      <td>NaN</td>\n      <td>NaN</td>\n      <td>16.7</td>\n      <td>0.0</td>\n      <td>0.0</td>\n      <td>credit_card</td>\n      <td>59.7%</td>\n      <td>0.0</td>\n      <td>36 months</td>\n      <td>Credit card refinancing</td>\n      <td>17.0</td>\n      <td>Not Verified</td>\n      <td>902xx</td>\n      <td>3</td>\n      <td>2002</td>\n      <td>1</td>\n      <td>2015</td>\n    </tr>\n    <tr>\n      <th>259178</th>\n      <td>0.0</td>\n      <td>WA</td>\n      <td>190000.0</td>\n      <td>0.0</td>\n      <td>0.0</td>\n      <td>0.0</td>\n      <td>6.02</td>\n      <td>10+ years</td>\n      <td>679.0</td>\n      <td>675.0</td>\n      <td>35000.0</td>\n      <td>RENT</td>\n      <td>NaN</td>\n      <td>1262.88</td>\n      <td>17.86%</td>\n      <td>35000.0</td>\n      <td>1.0</td>\n      <td>NaN</td>\n      <td>NaN</td>\n      <td>1.0</td>\n      <td>0.0</td>\n      <td>4.0</td>\n      <td>8.0</td>\n      <td>5.0</td>\n      <td>0.0</td>\n      <td>0.0</td>\n      <td>0.0</td>\n      <td>1.0</td>\n      <td>5.0</td>\n      <td>NaN</td>\n      <td>NaN</td>\n      <td>100.0</td>\n      <td>0.0</td>\n      <td>0.0</td>\n      <td>debt_consolidation</td>\n      <td>98%</td>\n      <td>0.0</td>\n      <td>36 months</td>\n      <td>Debt consolidation</td>\n      <td>10.0</td>\n      <td>Source Verified</td>\n      <td>993xx</td>\n      <td>8</td>\n      <td>1999</td>\n      <td>11</td>\n      <td>2015</td>\n    </tr>\n    <tr>\n      <th>131932</th>\n      <td>0.0</td>\n      <td>NJ</td>\n      <td>25000.0</td>\n      <td>0.0</td>\n      <td>0.0</td>\n      <td>0.0</td>\n      <td>16.51</td>\n      <td>1 year</td>\n      <td>684.0</td>\n      <td>680.0</td>\n      <td>7000.0</td>\n      <td>RENT</td>\n      <td>NaN</td>\n      <td>234.82</td>\n      <td>12.69%</td>\n      <td>7000.0</td>\n      <td>NaN</td>\n      <td>NaN</td>\n      <td>NaN</td>\n      <td>NaN</td>\n      <td>NaN</td>\n      <td>NaN</td>\n      <td>NaN</td>\n      <td>NaN</td>\n      <td>NaN</td>\n      <td>NaN</td>\n      <td>NaN</td>\n      <td>NaN</td>\n      <td>20.0</td>\n      <td>NaN</td>\n      <td>NaN</td>\n      <td>NaN</td>\n      <td>0.0</td>\n      <td>0.0</td>\n      <td>debt_consolidation</td>\n      <td>54.2%</td>\n      <td>0.0</td>\n      <td>36 months</td>\n      <td>Debt Consolidation</td>\n      <td>24.0</td>\n      <td>Not Verified</td>\n      <td>087xx</td>\n      <td>4</td>\n      <td>2003</td>\n      <td>10</td>\n      <td>2011</td>\n    </tr>\n    <tr>\n      <th>671155</th>\n      <td>0.0</td>\n      <td>MN</td>\n      <td>82000.0</td>\n      <td>0.0</td>\n      <td>0.0</td>\n      <td>0.0</td>\n      <td>24.81</td>\n      <td>1 year</td>\n      <td>779.0</td>\n      <td>775.0</td>\n      <td>40000.0</td>\n      <td>MORTGAGE</td>\n      <td>1.0</td>\n      <td>870.10</td>\n      <td>11.02%</td>\n      <td>40000.0</td>\n      <td>2.0</td>\n      <td>NaN</td>\n      <td>NaN</td>\n      <td>3.0</td>\n      <td>0.0</td>\n      <td>6.0</td>\n      <td>32.0</td>\n      <td>24.0</td>\n      <td>0.0</td>\n      <td>0.0</td>\n      <td>0.0</td>\n      <td>1.0</td>\n      <td>24.0</td>\n      <td>1.0</td>\n      <td>2.0</td>\n      <td>7.7</td>\n      <td>0.0</td>\n      <td>0.0</td>\n      <td>debt_consolidation</td>\n      <td>11.8%</td>\n      <td>0.0</td>\n      <td>60 months</td>\n      <td>Debt consolidation</td>\n      <td>43.0</td>\n      <td>Source Verified</td>\n      <td>553xx</td>\n      <td>6</td>\n      <td>1999</td>\n      <td>10</td>\n      <td>2019</td>\n    </tr>\n    <tr>\n      <th>121958</th>\n      <td>0.0</td>\n      <td>FL</td>\n      <td>34000.0</td>\n      <td>0.0</td>\n      <td>0.0</td>\n      <td>0.0</td>\n      <td>23.44</td>\n      <td>10+ years</td>\n      <td>704.0</td>\n      <td>700.0</td>\n      <td>6075.0</td>\n      <td>MORTGAGE</td>\n      <td>1.0</td>\n      <td>193.16</td>\n      <td>8.99%</td>\n      <td>6075.0</td>\n      <td>2.0</td>\n      <td>70.0</td>\n      <td>70.0</td>\n      <td>7.0</td>\n      <td>2.0</td>\n      <td>6.0</td>\n      <td>14.0</td>\n      <td>12.0</td>\n      <td>0.0</td>\n      <td>0.0</td>\n      <td>0.0</td>\n      <td>2.0</td>\n      <td>12.0</td>\n      <td>2.0</td>\n      <td>2.0</td>\n      <td>33.3</td>\n      <td>0.0</td>\n      <td>0.0</td>\n      <td>car</td>\n      <td>54.2%</td>\n      <td>0.0</td>\n      <td>36 months</td>\n      <td>Car financing</td>\n      <td>25.0</td>\n      <td>Verified</td>\n      <td>346xx</td>\n      <td>4</td>\n      <td>2001</td>\n      <td>6</td>\n      <td>2016</td>\n    </tr>\n  </tbody>\n</table>\n<p>959888 rows × 46 columns</p>\n</div>"
     },
     "metadata": {},
     "output_type": "display_data"
    }
   ]
  },
  {
   "cell_type": "code",
   "source": [
    "# Delete 'months' from the 'term' column\n",
    "for X_dataset in X_datasets:\n",
    "    X_dataset['term'] = X_dataset['term'].str.replace(' months', '')"
   ],
   "metadata": {
    "collapsed": false,
    "jupyter": {
     "outputs_hidden": false
    },
    "execution": {
     "iopub.status.busy": "2023-08-17T20:32:09.144102Z",
     "iopub.execute_input": "2023-08-17T20:32:09.144545Z",
     "iopub.status.idle": "2023-08-17T20:32:11.166334Z",
     "shell.execute_reply.started": "2023-08-17T20:32:09.144509Z",
     "shell.execute_reply": "2023-08-17T20:32:11.165316Z"
    },
    "trusted": true,
    "ExecuteTime": {
     "end_time": "2023-08-26T16:10:16.249382900Z",
     "start_time": "2023-08-26T16:10:14.438882500Z"
    }
   },
   "execution_count": 13,
   "outputs": []
  },
  {
   "cell_type": "code",
   "source": [
    "# Change int_rate and revol_util columns type to float\n",
    "for X_dataset in X_datasets:\n",
    "    X_dataset['int_rate'] = X_dataset['int_rate'].str.rstrip('%').astype(float) / 100.0\n",
    "    X_dataset['revol_util'] = X_dataset['revol_util'].str.rstrip('%').astype(float) / 100.0"
   ],
   "metadata": {
    "collapsed": false,
    "jupyter": {
     "outputs_hidden": false
    },
    "execution": {
     "iopub.status.busy": "2023-08-17T20:32:11.167643Z",
     "iopub.execute_input": "2023-08-17T20:32:11.168041Z",
     "iopub.status.idle": "2023-08-17T20:32:14.167180Z",
     "shell.execute_reply.started": "2023-08-17T20:32:11.168014Z",
     "shell.execute_reply": "2023-08-17T20:32:14.166357Z"
    },
    "trusted": true,
    "ExecuteTime": {
     "end_time": "2023-08-26T16:10:19.026782600Z",
     "start_time": "2023-08-26T16:10:16.236391400Z"
    }
   },
   "execution_count": 14,
   "outputs": []
  },
  {
   "cell_type": "code",
   "source": [
    "display(X_test)"
   ],
   "metadata": {
    "collapsed": false,
    "jupyter": {
     "outputs_hidden": false
    },
    "execution": {
     "iopub.status.busy": "2023-08-17T20:32:14.168222Z",
     "iopub.execute_input": "2023-08-17T20:32:14.168493Z",
     "iopub.status.idle": "2023-08-17T20:32:14.247764Z",
     "shell.execute_reply.started": "2023-08-17T20:32:14.168469Z",
     "shell.execute_reply": "2023-08-17T20:32:14.247043Z"
    },
    "trusted": true,
    "ExecuteTime": {
     "end_time": "2023-08-26T16:10:19.105739600Z",
     "start_time": "2023-08-26T16:10:19.028782500Z"
    }
   },
   "execution_count": 15,
   "outputs": [
    {
     "data": {
      "text/plain": "        acc_now_delinq addr_state  annual_inc  chargeoff_within_12_mths  \\\nindex                                                                     \n0                  0.0         GA     46209.0                       0.0   \n1                  0.0         PA     43500.0                       0.0   \n2                  0.0         OH     72000.0                       0.0   \n3                  0.0         LA    120000.0                       0.0   \n4                  0.0         IN     55000.0                       0.0   \n...                ...        ...         ...                       ...   \n590972             0.0         CA     39000.0                       0.0   \n590973             0.0         IL     80000.0                       0.0   \n590974             0.0         OH     42000.0                       0.0   \n590975             0.0         NJ     90000.0                       0.0   \n590976             0.0         NJ     70000.0                       0.0   \n\n        collections_12_mths_ex_med  delinq_2yrs    dti emp_length  \\\nindex                                                               \n0                              0.0          0.0  34.98    8 years   \n1                              0.0          0.0  20.25    5 years   \n2                              0.0          0.0  15.98    3 years   \n3                              0.0          0.0  24.93  10+ years   \n4                              0.0          1.0  23.22  10+ years   \n...                            ...          ...    ...        ...   \n590972                         0.0          1.0  26.77    3 years   \n590973                         0.0          1.0  22.54  10+ years   \n590974                         0.0          0.0  21.60  10+ years   \n590975                         0.0          0.0  19.59    2 years   \n590976                         0.0          0.0  15.14    4 years   \n\n        fico_range_high  fico_range_low  funded_amnt home_ownership  \\\nindex                                                                 \n0                 669.0           665.0      15700.0       MORTGAGE   \n1                 704.0           700.0       7200.0            OWN   \n2                 699.0           695.0      24000.0       MORTGAGE   \n3                 784.0           780.0       7800.0       MORTGAGE   \n4                 689.0           685.0      10500.0       MORTGAGE   \n...                 ...             ...          ...            ...   \n590972            694.0           690.0      10000.0           RENT   \n590973            674.0           670.0      18000.0       MORTGAGE   \n590974            709.0           705.0      18000.0       MORTGAGE   \n590975            729.0           725.0       6400.0       MORTGAGE   \n590976            679.0           675.0      14000.0           RENT   \n\n        inq_last_12m  installment  int_rate  loan_amnt  mort_acc  \\\nindex                                                              \n0                6.0       437.65    0.2245    15700.0       3.0   \n1                NaN       166.79    0.1380     7200.0       NaN   \n2                NaN       847.21    0.1629    24000.0       2.0   \n3                1.0       234.90    0.0532     7800.0       2.0   \n4                4.0       331.90    0.0859    10500.0       7.0   \n...              ...          ...       ...        ...       ...   \n590972           NaN       318.79    0.0917    10000.0       0.0   \n590973           NaN       615.11    0.1399    18000.0       0.0   \n590974           NaN       424.92    0.1465    18000.0       3.0   \n590975           NaN       199.44    0.0762     6400.0       3.0   \n590976           NaN       332.99    0.1499    14000.0       0.0   \n\n        mths_since_last_delinq  mths_since_recent_bc_dlq  \\\nindex                                                      \n0                         48.0                      48.0   \n1                          NaN                       NaN   \n2                         63.0                      63.0   \n3                         68.0                       NaN   \n4                         21.0                       NaN   \n...                        ...                       ...   \n590972                    22.0                       NaN   \n590973                    17.0                       NaN   \n590974                    60.0                      67.0   \n590975                     NaN                       NaN   \n590976                     NaN                       NaN   \n\n        mths_since_recent_inq  num_accts_ever_120_pd  num_actv_bc_tl  \\\nindex                                                                  \n0                         2.0                    1.0             4.0   \n1                         NaN                    NaN             NaN   \n2                         2.0                    5.0             3.0   \n3                         2.0                    0.0             9.0   \n4                         1.0                    0.0             4.0   \n...                       ...                    ...             ...   \n590972                    0.0                    0.0             4.0   \n590973                    8.0                    0.0             5.0   \n590974                   16.0                    0.0             2.0   \n590975                    6.0                    0.0             6.0   \n590976                   13.0                    0.0             2.0   \n\n        num_rev_accts  num_sats  num_tl_120dpd_2m  num_tl_30dpd  \\\nindex                                                             \n0                 9.0      11.0               0.0           0.0   \n1                 NaN       NaN               NaN           NaN   \n2                23.0      18.0               0.0           0.0   \n3                16.0      21.0               0.0           0.0   \n4                 9.0      15.0               0.0           0.0   \n...               ...       ...               ...           ...   \n590972            7.0      14.0               0.0           0.0   \n590973           28.0      24.0               0.0           0.0   \n590974           14.0      10.0               0.0           0.0   \n590975           25.0      20.0               0.0           0.0   \n590976            6.0      20.0               0.0           0.0   \n\n        num_tl_90g_dpd_24m  num_tl_op_past_12m  open_acc  open_il_24m  \\\nindex                                                                   \n0                      0.0                 4.0      11.0          3.0   \n1                      NaN                 NaN      14.0          NaN   \n2                      0.0                 1.0      18.0          NaN   \n3                      0.0                 5.0      21.0          2.0   \n4                      0.0                 1.0      15.0          3.0   \n...                    ...                 ...       ...          ...   \n590972                 0.0                 0.0      14.0          NaN   \n590973                 0.0                11.0      24.0          NaN   \n590974                 0.0                 1.0      10.0          NaN   \n590975                 0.0                 4.0      20.0          NaN   \n590976                 0.0                 1.0      20.0          NaN   \n\n        open_rv_24m  percent_bc_gt_75  pub_rec  pub_rec_bankruptcies  \\\nindex                                                                  \n0               3.0              75.0      0.0                   0.0   \n1               NaN               NaN      0.0                   0.0   \n2               NaN              40.0      0.0                   0.0   \n3               6.0               0.0      0.0                   0.0   \n4               0.0              50.0      0.0                   0.0   \n...             ...               ...      ...                   ...   \n590972          NaN              50.0      0.0                   0.0   \n590973          NaN              16.7      0.0                   0.0   \n590974          NaN             100.0      0.0                   0.0   \n590975          NaN              14.3      0.0                   0.0   \n590976          NaN              66.7      0.0                   0.0   \n\n                   purpose  revol_util  tax_liens term  \\\nindex                                                    \n0       debt_consolidation       0.617        0.0   60   \n1       debt_consolidation       0.586        0.0   60   \n2              credit_card       0.462        0.0   36   \n3                    other       0.037        0.0   36   \n4              credit_card       0.681        0.0   36   \n...                    ...         ...        ...  ...   \n590972         credit_card       0.687        0.0   36   \n590973  debt_consolidation       0.545        0.0   36   \n590974  debt_consolidation       0.677        0.0   60   \n590975  debt_consolidation       0.298        0.0   36   \n590976  debt_consolidation       0.797        0.0   60   \n\n                          title  total_acc verification_status zip_code  \\\nindex                                                                     \n0            Debt consolidation       20.0            Verified    302xx   \n1                          POFF       32.0        Not Verified    151xx   \n2                    credit crd       36.0            Verified    440xx   \n3                         Other       31.0        Not Verified    710xx   \n4       Credit card refinancing       28.0        Not Verified    465xx   \n...                         ...        ...                 ...      ...   \n590972  Credit card refinancing       20.0     Source Verified    916xx   \n590973       Debt consolidation       37.0            Verified    601xx   \n590974       Debt consolidation       22.0     Source Verified    431xx   \n590975       Debt consolidation       37.0        Not Verified    088xx   \n590976       Debt consolidation       40.0     Source Verified    070xx   \n\n        earliest_cr_line_month  earliest_cr_line_year  issue_d_month  \\\nindex                                                                  \n0                            4                   2009              1   \n1                            6                   1982              4   \n2                           11                   1997             11   \n3                            7                   2001              6   \n4                            9                   1990              9   \n...                        ...                    ...            ...   \n590972                      10                   2007              8   \n590973                      11                   1991              7   \n590974                       2                   1976              4   \n590975                       2                   2003             12   \n590976                       9                   2004              6   \n\n        issue_d_year  \nindex                 \n0               2016  \n1               2011  \n2               2012  \n3               2017  \n4               2016  \n...              ...  \n590972          2015  \n590973          2015  \n590974          2015  \n590975          2013  \n590976          2014  \n\n[590977 rows x 46 columns]",
      "text/html": "<div>\n<style scoped>\n    .dataframe tbody tr th:only-of-type {\n        vertical-align: middle;\n    }\n\n    .dataframe tbody tr th {\n        vertical-align: top;\n    }\n\n    .dataframe thead th {\n        text-align: right;\n    }\n</style>\n<table border=\"1\" class=\"dataframe\">\n  <thead>\n    <tr style=\"text-align: right;\">\n      <th></th>\n      <th>acc_now_delinq</th>\n      <th>addr_state</th>\n      <th>annual_inc</th>\n      <th>chargeoff_within_12_mths</th>\n      <th>collections_12_mths_ex_med</th>\n      <th>delinq_2yrs</th>\n      <th>dti</th>\n      <th>emp_length</th>\n      <th>fico_range_high</th>\n      <th>fico_range_low</th>\n      <th>funded_amnt</th>\n      <th>home_ownership</th>\n      <th>inq_last_12m</th>\n      <th>installment</th>\n      <th>int_rate</th>\n      <th>loan_amnt</th>\n      <th>mort_acc</th>\n      <th>mths_since_last_delinq</th>\n      <th>mths_since_recent_bc_dlq</th>\n      <th>mths_since_recent_inq</th>\n      <th>num_accts_ever_120_pd</th>\n      <th>num_actv_bc_tl</th>\n      <th>num_rev_accts</th>\n      <th>num_sats</th>\n      <th>num_tl_120dpd_2m</th>\n      <th>num_tl_30dpd</th>\n      <th>num_tl_90g_dpd_24m</th>\n      <th>num_tl_op_past_12m</th>\n      <th>open_acc</th>\n      <th>open_il_24m</th>\n      <th>open_rv_24m</th>\n      <th>percent_bc_gt_75</th>\n      <th>pub_rec</th>\n      <th>pub_rec_bankruptcies</th>\n      <th>purpose</th>\n      <th>revol_util</th>\n      <th>tax_liens</th>\n      <th>term</th>\n      <th>title</th>\n      <th>total_acc</th>\n      <th>verification_status</th>\n      <th>zip_code</th>\n      <th>earliest_cr_line_month</th>\n      <th>earliest_cr_line_year</th>\n      <th>issue_d_month</th>\n      <th>issue_d_year</th>\n    </tr>\n    <tr>\n      <th>index</th>\n      <th></th>\n      <th></th>\n      <th></th>\n      <th></th>\n      <th></th>\n      <th></th>\n      <th></th>\n      <th></th>\n      <th></th>\n      <th></th>\n      <th></th>\n      <th></th>\n      <th></th>\n      <th></th>\n      <th></th>\n      <th></th>\n      <th></th>\n      <th></th>\n      <th></th>\n      <th></th>\n      <th></th>\n      <th></th>\n      <th></th>\n      <th></th>\n      <th></th>\n      <th></th>\n      <th></th>\n      <th></th>\n      <th></th>\n      <th></th>\n      <th></th>\n      <th></th>\n      <th></th>\n      <th></th>\n      <th></th>\n      <th></th>\n      <th></th>\n      <th></th>\n      <th></th>\n      <th></th>\n      <th></th>\n      <th></th>\n      <th></th>\n      <th></th>\n      <th></th>\n      <th></th>\n    </tr>\n  </thead>\n  <tbody>\n    <tr>\n      <th>0</th>\n      <td>0.0</td>\n      <td>GA</td>\n      <td>46209.0</td>\n      <td>0.0</td>\n      <td>0.0</td>\n      <td>0.0</td>\n      <td>34.98</td>\n      <td>8 years</td>\n      <td>669.0</td>\n      <td>665.0</td>\n      <td>15700.0</td>\n      <td>MORTGAGE</td>\n      <td>6.0</td>\n      <td>437.65</td>\n      <td>0.2245</td>\n      <td>15700.0</td>\n      <td>3.0</td>\n      <td>48.0</td>\n      <td>48.0</td>\n      <td>2.0</td>\n      <td>1.0</td>\n      <td>4.0</td>\n      <td>9.0</td>\n      <td>11.0</td>\n      <td>0.0</td>\n      <td>0.0</td>\n      <td>0.0</td>\n      <td>4.0</td>\n      <td>11.0</td>\n      <td>3.0</td>\n      <td>3.0</td>\n      <td>75.0</td>\n      <td>0.0</td>\n      <td>0.0</td>\n      <td>debt_consolidation</td>\n      <td>0.617</td>\n      <td>0.0</td>\n      <td>60</td>\n      <td>Debt consolidation</td>\n      <td>20.0</td>\n      <td>Verified</td>\n      <td>302xx</td>\n      <td>4</td>\n      <td>2009</td>\n      <td>1</td>\n      <td>2016</td>\n    </tr>\n    <tr>\n      <th>1</th>\n      <td>0.0</td>\n      <td>PA</td>\n      <td>43500.0</td>\n      <td>0.0</td>\n      <td>0.0</td>\n      <td>0.0</td>\n      <td>20.25</td>\n      <td>5 years</td>\n      <td>704.0</td>\n      <td>700.0</td>\n      <td>7200.0</td>\n      <td>OWN</td>\n      <td>NaN</td>\n      <td>166.79</td>\n      <td>0.1380</td>\n      <td>7200.0</td>\n      <td>NaN</td>\n      <td>NaN</td>\n      <td>NaN</td>\n      <td>NaN</td>\n      <td>NaN</td>\n      <td>NaN</td>\n      <td>NaN</td>\n      <td>NaN</td>\n      <td>NaN</td>\n      <td>NaN</td>\n      <td>NaN</td>\n      <td>NaN</td>\n      <td>14.0</td>\n      <td>NaN</td>\n      <td>NaN</td>\n      <td>NaN</td>\n      <td>0.0</td>\n      <td>0.0</td>\n      <td>debt_consolidation</td>\n      <td>0.586</td>\n      <td>0.0</td>\n      <td>60</td>\n      <td>POFF</td>\n      <td>32.0</td>\n      <td>Not Verified</td>\n      <td>151xx</td>\n      <td>6</td>\n      <td>1982</td>\n      <td>4</td>\n      <td>2011</td>\n    </tr>\n    <tr>\n      <th>2</th>\n      <td>0.0</td>\n      <td>OH</td>\n      <td>72000.0</td>\n      <td>0.0</td>\n      <td>0.0</td>\n      <td>0.0</td>\n      <td>15.98</td>\n      <td>3 years</td>\n      <td>699.0</td>\n      <td>695.0</td>\n      <td>24000.0</td>\n      <td>MORTGAGE</td>\n      <td>NaN</td>\n      <td>847.21</td>\n      <td>0.1629</td>\n      <td>24000.0</td>\n      <td>2.0</td>\n      <td>63.0</td>\n      <td>63.0</td>\n      <td>2.0</td>\n      <td>5.0</td>\n      <td>3.0</td>\n      <td>23.0</td>\n      <td>18.0</td>\n      <td>0.0</td>\n      <td>0.0</td>\n      <td>0.0</td>\n      <td>1.0</td>\n      <td>18.0</td>\n      <td>NaN</td>\n      <td>NaN</td>\n      <td>40.0</td>\n      <td>0.0</td>\n      <td>0.0</td>\n      <td>credit_card</td>\n      <td>0.462</td>\n      <td>0.0</td>\n      <td>36</td>\n      <td>credit crd</td>\n      <td>36.0</td>\n      <td>Verified</td>\n      <td>440xx</td>\n      <td>11</td>\n      <td>1997</td>\n      <td>11</td>\n      <td>2012</td>\n    </tr>\n    <tr>\n      <th>3</th>\n      <td>0.0</td>\n      <td>LA</td>\n      <td>120000.0</td>\n      <td>0.0</td>\n      <td>0.0</td>\n      <td>0.0</td>\n      <td>24.93</td>\n      <td>10+ years</td>\n      <td>784.0</td>\n      <td>780.0</td>\n      <td>7800.0</td>\n      <td>MORTGAGE</td>\n      <td>1.0</td>\n      <td>234.90</td>\n      <td>0.0532</td>\n      <td>7800.0</td>\n      <td>2.0</td>\n      <td>68.0</td>\n      <td>NaN</td>\n      <td>2.0</td>\n      <td>0.0</td>\n      <td>9.0</td>\n      <td>16.0</td>\n      <td>21.0</td>\n      <td>0.0</td>\n      <td>0.0</td>\n      <td>0.0</td>\n      <td>5.0</td>\n      <td>21.0</td>\n      <td>2.0</td>\n      <td>6.0</td>\n      <td>0.0</td>\n      <td>0.0</td>\n      <td>0.0</td>\n      <td>other</td>\n      <td>0.037</td>\n      <td>0.0</td>\n      <td>36</td>\n      <td>Other</td>\n      <td>31.0</td>\n      <td>Not Verified</td>\n      <td>710xx</td>\n      <td>7</td>\n      <td>2001</td>\n      <td>6</td>\n      <td>2017</td>\n    </tr>\n    <tr>\n      <th>4</th>\n      <td>0.0</td>\n      <td>IN</td>\n      <td>55000.0</td>\n      <td>0.0</td>\n      <td>0.0</td>\n      <td>1.0</td>\n      <td>23.22</td>\n      <td>10+ years</td>\n      <td>689.0</td>\n      <td>685.0</td>\n      <td>10500.0</td>\n      <td>MORTGAGE</td>\n      <td>4.0</td>\n      <td>331.90</td>\n      <td>0.0859</td>\n      <td>10500.0</td>\n      <td>7.0</td>\n      <td>21.0</td>\n      <td>NaN</td>\n      <td>1.0</td>\n      <td>0.0</td>\n      <td>4.0</td>\n      <td>9.0</td>\n      <td>15.0</td>\n      <td>0.0</td>\n      <td>0.0</td>\n      <td>0.0</td>\n      <td>1.0</td>\n      <td>15.0</td>\n      <td>3.0</td>\n      <td>0.0</td>\n      <td>50.0</td>\n      <td>0.0</td>\n      <td>0.0</td>\n      <td>credit_card</td>\n      <td>0.681</td>\n      <td>0.0</td>\n      <td>36</td>\n      <td>Credit card refinancing</td>\n      <td>28.0</td>\n      <td>Not Verified</td>\n      <td>465xx</td>\n      <td>9</td>\n      <td>1990</td>\n      <td>9</td>\n      <td>2016</td>\n    </tr>\n    <tr>\n      <th>...</th>\n      <td>...</td>\n      <td>...</td>\n      <td>...</td>\n      <td>...</td>\n      <td>...</td>\n      <td>...</td>\n      <td>...</td>\n      <td>...</td>\n      <td>...</td>\n      <td>...</td>\n      <td>...</td>\n      <td>...</td>\n      <td>...</td>\n      <td>...</td>\n      <td>...</td>\n      <td>...</td>\n      <td>...</td>\n      <td>...</td>\n      <td>...</td>\n      <td>...</td>\n      <td>...</td>\n      <td>...</td>\n      <td>...</td>\n      <td>...</td>\n      <td>...</td>\n      <td>...</td>\n      <td>...</td>\n      <td>...</td>\n      <td>...</td>\n      <td>...</td>\n      <td>...</td>\n      <td>...</td>\n      <td>...</td>\n      <td>...</td>\n      <td>...</td>\n      <td>...</td>\n      <td>...</td>\n      <td>...</td>\n      <td>...</td>\n      <td>...</td>\n      <td>...</td>\n      <td>...</td>\n      <td>...</td>\n      <td>...</td>\n      <td>...</td>\n      <td>...</td>\n    </tr>\n    <tr>\n      <th>590972</th>\n      <td>0.0</td>\n      <td>CA</td>\n      <td>39000.0</td>\n      <td>0.0</td>\n      <td>0.0</td>\n      <td>1.0</td>\n      <td>26.77</td>\n      <td>3 years</td>\n      <td>694.0</td>\n      <td>690.0</td>\n      <td>10000.0</td>\n      <td>RENT</td>\n      <td>NaN</td>\n      <td>318.79</td>\n      <td>0.0917</td>\n      <td>10000.0</td>\n      <td>0.0</td>\n      <td>22.0</td>\n      <td>NaN</td>\n      <td>0.0</td>\n      <td>0.0</td>\n      <td>4.0</td>\n      <td>7.0</td>\n      <td>14.0</td>\n      <td>0.0</td>\n      <td>0.0</td>\n      <td>0.0</td>\n      <td>0.0</td>\n      <td>14.0</td>\n      <td>NaN</td>\n      <td>NaN</td>\n      <td>50.0</td>\n      <td>0.0</td>\n      <td>0.0</td>\n      <td>credit_card</td>\n      <td>0.687</td>\n      <td>0.0</td>\n      <td>36</td>\n      <td>Credit card refinancing</td>\n      <td>20.0</td>\n      <td>Source Verified</td>\n      <td>916xx</td>\n      <td>10</td>\n      <td>2007</td>\n      <td>8</td>\n      <td>2015</td>\n    </tr>\n    <tr>\n      <th>590973</th>\n      <td>0.0</td>\n      <td>IL</td>\n      <td>80000.0</td>\n      <td>0.0</td>\n      <td>0.0</td>\n      <td>1.0</td>\n      <td>22.54</td>\n      <td>10+ years</td>\n      <td>674.0</td>\n      <td>670.0</td>\n      <td>18000.0</td>\n      <td>MORTGAGE</td>\n      <td>NaN</td>\n      <td>615.11</td>\n      <td>0.1399</td>\n      <td>18000.0</td>\n      <td>0.0</td>\n      <td>17.0</td>\n      <td>NaN</td>\n      <td>8.0</td>\n      <td>0.0</td>\n      <td>5.0</td>\n      <td>28.0</td>\n      <td>24.0</td>\n      <td>0.0</td>\n      <td>0.0</td>\n      <td>0.0</td>\n      <td>11.0</td>\n      <td>24.0</td>\n      <td>NaN</td>\n      <td>NaN</td>\n      <td>16.7</td>\n      <td>0.0</td>\n      <td>0.0</td>\n      <td>debt_consolidation</td>\n      <td>0.545</td>\n      <td>0.0</td>\n      <td>36</td>\n      <td>Debt consolidation</td>\n      <td>37.0</td>\n      <td>Verified</td>\n      <td>601xx</td>\n      <td>11</td>\n      <td>1991</td>\n      <td>7</td>\n      <td>2015</td>\n    </tr>\n    <tr>\n      <th>590974</th>\n      <td>0.0</td>\n      <td>OH</td>\n      <td>42000.0</td>\n      <td>0.0</td>\n      <td>0.0</td>\n      <td>0.0</td>\n      <td>21.60</td>\n      <td>10+ years</td>\n      <td>709.0</td>\n      <td>705.0</td>\n      <td>18000.0</td>\n      <td>MORTGAGE</td>\n      <td>NaN</td>\n      <td>424.92</td>\n      <td>0.1465</td>\n      <td>18000.0</td>\n      <td>3.0</td>\n      <td>60.0</td>\n      <td>67.0</td>\n      <td>16.0</td>\n      <td>0.0</td>\n      <td>2.0</td>\n      <td>14.0</td>\n      <td>10.0</td>\n      <td>0.0</td>\n      <td>0.0</td>\n      <td>0.0</td>\n      <td>1.0</td>\n      <td>10.0</td>\n      <td>NaN</td>\n      <td>NaN</td>\n      <td>100.0</td>\n      <td>0.0</td>\n      <td>0.0</td>\n      <td>debt_consolidation</td>\n      <td>0.677</td>\n      <td>0.0</td>\n      <td>60</td>\n      <td>Debt consolidation</td>\n      <td>22.0</td>\n      <td>Source Verified</td>\n      <td>431xx</td>\n      <td>2</td>\n      <td>1976</td>\n      <td>4</td>\n      <td>2015</td>\n    </tr>\n    <tr>\n      <th>590975</th>\n      <td>0.0</td>\n      <td>NJ</td>\n      <td>90000.0</td>\n      <td>0.0</td>\n      <td>0.0</td>\n      <td>0.0</td>\n      <td>19.59</td>\n      <td>2 years</td>\n      <td>729.0</td>\n      <td>725.0</td>\n      <td>6400.0</td>\n      <td>MORTGAGE</td>\n      <td>NaN</td>\n      <td>199.44</td>\n      <td>0.0762</td>\n      <td>6400.0</td>\n      <td>3.0</td>\n      <td>NaN</td>\n      <td>NaN</td>\n      <td>6.0</td>\n      <td>0.0</td>\n      <td>6.0</td>\n      <td>25.0</td>\n      <td>20.0</td>\n      <td>0.0</td>\n      <td>0.0</td>\n      <td>0.0</td>\n      <td>4.0</td>\n      <td>20.0</td>\n      <td>NaN</td>\n      <td>NaN</td>\n      <td>14.3</td>\n      <td>0.0</td>\n      <td>0.0</td>\n      <td>debt_consolidation</td>\n      <td>0.298</td>\n      <td>0.0</td>\n      <td>36</td>\n      <td>Debt consolidation</td>\n      <td>37.0</td>\n      <td>Not Verified</td>\n      <td>088xx</td>\n      <td>2</td>\n      <td>2003</td>\n      <td>12</td>\n      <td>2013</td>\n    </tr>\n    <tr>\n      <th>590976</th>\n      <td>0.0</td>\n      <td>NJ</td>\n      <td>70000.0</td>\n      <td>0.0</td>\n      <td>0.0</td>\n      <td>0.0</td>\n      <td>15.14</td>\n      <td>4 years</td>\n      <td>679.0</td>\n      <td>675.0</td>\n      <td>14000.0</td>\n      <td>RENT</td>\n      <td>NaN</td>\n      <td>332.99</td>\n      <td>0.1499</td>\n      <td>14000.0</td>\n      <td>0.0</td>\n      <td>NaN</td>\n      <td>NaN</td>\n      <td>13.0</td>\n      <td>0.0</td>\n      <td>2.0</td>\n      <td>6.0</td>\n      <td>20.0</td>\n      <td>0.0</td>\n      <td>0.0</td>\n      <td>0.0</td>\n      <td>1.0</td>\n      <td>20.0</td>\n      <td>NaN</td>\n      <td>NaN</td>\n      <td>66.7</td>\n      <td>0.0</td>\n      <td>0.0</td>\n      <td>debt_consolidation</td>\n      <td>0.797</td>\n      <td>0.0</td>\n      <td>60</td>\n      <td>Debt consolidation</td>\n      <td>40.0</td>\n      <td>Source Verified</td>\n      <td>070xx</td>\n      <td>9</td>\n      <td>2004</td>\n      <td>6</td>\n      <td>2014</td>\n    </tr>\n  </tbody>\n</table>\n<p>590977 rows × 46 columns</p>\n</div>"
     },
     "metadata": {},
     "output_type": "display_data"
    }
   ]
  },
  {
   "cell_type": "code",
   "source": [
    "# Convert the 'emp_length' values to float\n",
    "for X_dataset in X_datasets:\n",
    "    X_dataset['emp_length'] = X_dataset['emp_length'].str.extract('(\\d+)').astype('float')"
   ],
   "metadata": {
    "collapsed": false,
    "jupyter": {
     "outputs_hidden": false
    },
    "execution": {
     "iopub.status.busy": "2023-08-17T20:32:14.248683Z",
     "iopub.execute_input": "2023-08-17T20:32:14.249486Z",
     "iopub.status.idle": "2023-08-17T20:32:20.012920Z",
     "shell.execute_reply.started": "2023-08-17T20:32:14.249458Z",
     "shell.execute_reply": "2023-08-17T20:32:20.012108Z"
    },
    "trusted": true,
    "ExecuteTime": {
     "end_time": "2023-08-26T16:10:24.037086200Z",
     "start_time": "2023-08-26T16:10:19.105739600Z"
    }
   },
   "execution_count": 16,
   "outputs": []
  },
  {
   "cell_type": "code",
   "source": [
    "# choose categorical and continuous features from data\n",
    "categorical_columns = [\n",
    "    c for c in X_train.columns if X_train[c].dtype.name == \"object\"\n",
    "]\n",
    "\n",
    "numerical_columns = [\n",
    "    c for c in X_train.columns if X_train[c].dtype.name != \"object\"\n",
    "]\n",
    "\n",
    "print(\"categorical_columns:\", categorical_columns)\n",
    "print(\"numerical_columns:\", numerical_columns)"
   ],
   "metadata": {
    "collapsed": false,
    "jupyter": {
     "outputs_hidden": false
    },
    "execution": {
     "iopub.status.busy": "2023-08-17T20:32:20.013980Z",
     "iopub.execute_input": "2023-08-17T20:32:20.014909Z",
     "iopub.status.idle": "2023-08-17T20:32:20.023897Z",
     "shell.execute_reply.started": "2023-08-17T20:32:20.014879Z",
     "shell.execute_reply": "2023-08-17T20:32:20.023114Z"
    },
    "trusted": true,
    "ExecuteTime": {
     "end_time": "2023-08-26T16:10:24.054075900Z",
     "start_time": "2023-08-26T16:10:24.038085800Z"
    }
   },
   "execution_count": 17,
   "outputs": [
    {
     "name": "stdout",
     "output_type": "stream",
     "text": [
      "categorical_columns: ['addr_state', 'home_ownership', 'purpose', 'term', 'title', 'verification_status', 'zip_code']\n",
      "numerical_columns: ['acc_now_delinq', 'annual_inc', 'chargeoff_within_12_mths', 'collections_12_mths_ex_med', 'delinq_2yrs', 'dti', 'emp_length', 'fico_range_high', 'fico_range_low', 'funded_amnt', 'inq_last_12m', 'installment', 'int_rate', 'loan_amnt', 'mort_acc', 'mths_since_last_delinq', 'mths_since_recent_bc_dlq', 'mths_since_recent_inq', 'num_accts_ever_120_pd', 'num_actv_bc_tl', 'num_rev_accts', 'num_sats', 'num_tl_120dpd_2m', 'num_tl_30dpd', 'num_tl_90g_dpd_24m', 'num_tl_op_past_12m', 'open_acc', 'open_il_24m', 'open_rv_24m', 'percent_bc_gt_75', 'pub_rec', 'pub_rec_bankruptcies', 'revol_util', 'tax_liens', 'total_acc', 'earliest_cr_line_month', 'earliest_cr_line_year', 'issue_d_month', 'issue_d_year']\n"
     ]
    }
   ]
  },
  {
   "cell_type": "code",
   "source": [
    "for X_dataset in X_datasets:\n",
    "    X_dataset[\"collections_12_mths_ex_med\"].fillna(X_dataset[\"chargeoff_within_12_mths\"].mode(), inplace=True)\n",
    "    X_dataset[\"chargeoff_within_12_mths\"].fillna(X_dataset[\"chargeoff_within_12_mths\"].mode(), inplace=True)\n",
    "\n",
    "    for c in numerical_columns:\n",
    "        X_dataset[c].fillna(X_dataset[c].mean(), inplace=True)"
   ],
   "metadata": {
    "collapsed": false,
    "jupyter": {
     "outputs_hidden": false
    },
    "execution": {
     "iopub.status.busy": "2023-08-17T20:32:20.025193Z",
     "iopub.execute_input": "2023-08-17T20:32:20.025503Z",
     "iopub.status.idle": "2023-08-17T20:32:20.581935Z",
     "shell.execute_reply.started": "2023-08-17T20:32:20.025478Z",
     "shell.execute_reply": "2023-08-17T20:32:20.580878Z"
    },
    "trusted": true,
    "ExecuteTime": {
     "end_time": "2023-08-26T16:10:25.130749Z",
     "start_time": "2023-08-26T16:10:24.054075900Z"
    }
   },
   "execution_count": 18,
   "outputs": []
  },
  {
   "cell_type": "code",
   "source": [
    "# get columns with nans\n",
    "for X_dataset in X_datasets:\n",
    "    columns_with_nan = X_dataset.columns[X_dataset.isnull().any()]\n",
    "    nan_count = X_dataset[columns_with_nan].isnull().sum()\n",
    "    nan_name_count = dict(zip(columns_with_nan, nan_count))\n",
    "    print(\"columns_with_nan:\", nan_name_count)"
   ],
   "metadata": {
    "collapsed": false,
    "jupyter": {
     "outputs_hidden": false
    },
    "execution": {
     "iopub.status.busy": "2023-08-17T20:32:20.583278Z",
     "iopub.execute_input": "2023-08-17T20:32:20.583625Z",
     "iopub.status.idle": "2023-08-17T20:32:26.278204Z",
     "shell.execute_reply.started": "2023-08-17T20:32:20.583597Z",
     "shell.execute_reply": "2023-08-17T20:32:26.277190Z"
    },
    "trusted": true,
    "ExecuteTime": {
     "end_time": "2023-08-26T16:10:28.570015200Z",
     "start_time": "2023-08-26T16:10:25.139742900Z"
    }
   },
   "execution_count": 19,
   "outputs": [
    {
     "name": "stdout",
     "output_type": "stream",
     "text": [
      "columns_with_nan: {'title': 10978, 'zip_code': 1}\n",
      "columns_with_nan: {'title': 2822}\n",
      "columns_with_nan: {'title': 6844}\n"
     ]
    }
   ]
  },
  {
   "cell_type": "code",
   "source": [
    "X_train['title'].value_counts(dropna=False, ascending=False)"
   ],
   "metadata": {
    "collapsed": false,
    "jupyter": {
     "outputs_hidden": false
    },
    "execution": {
     "iopub.status.busy": "2023-08-17T20:32:26.279282Z",
     "iopub.execute_input": "2023-08-17T20:32:26.279575Z",
     "iopub.status.idle": "2023-08-17T20:32:26.382848Z",
     "shell.execute_reply.started": "2023-08-17T20:32:26.279549Z",
     "shell.execute_reply": "2023-08-17T20:32:26.381815Z"
    },
    "trusted": true,
    "ExecuteTime": {
     "end_time": "2023-08-26T16:10:28.674310700Z",
     "start_time": "2023-08-26T16:10:28.572012800Z"
    }
   },
   "execution_count": 20,
   "outputs": [
    {
     "data": {
      "text/plain": "Debt consolidation         482207\nCredit card refinancing    190132\nHome improvement            56351\nOther                       52509\nMajor purchase              18561\n                            ...  \nBalance Setter                  1\nSummer Expenses                 1\nSoxfan                          1\nMy business loan                1\nair condition unit              1\nName: title, Length: 36201, dtype: int64"
     },
     "execution_count": 20,
     "metadata": {},
     "output_type": "execute_result"
    }
   ]
  },
  {
   "cell_type": "code",
   "source": [
    "# drop title feature\n",
    "for X_dataset in X_datasets:\n",
    "    X_dataset = X_dataset.drop('title', axis=1)\n",
    "\n",
    "# delete from list\n",
    "categorical_columns.remove('title')"
   ],
   "metadata": {
    "collapsed": false,
    "jupyter": {
     "outputs_hidden": false
    },
    "execution": {
     "iopub.status.busy": "2023-08-17T20:32:26.384147Z",
     "iopub.execute_input": "2023-08-17T20:32:26.384459Z",
     "iopub.status.idle": "2023-08-17T20:32:26.666158Z",
     "shell.execute_reply.started": "2023-08-17T20:32:26.384433Z",
     "shell.execute_reply": "2023-08-17T20:32:26.665325Z"
    },
    "trusted": true,
    "ExecuteTime": {
     "end_time": "2023-08-26T16:10:29.136035300Z",
     "start_time": "2023-08-26T16:10:28.677310300Z"
    }
   },
   "execution_count": 21,
   "outputs": []
  },
  {
   "cell_type": "code",
   "source": [
    "# fill missing data\n",
    "for X_dataset in X_datasets:\n",
    "    X_dataset['zip_code'].fillna(X_dataset['zip_code'].mode()[0], inplace=True)"
   ],
   "metadata": {
    "collapsed": false,
    "jupyter": {
     "outputs_hidden": false
    },
    "execution": {
     "iopub.status.busy": "2023-08-17T20:32:26.667528Z",
     "iopub.execute_input": "2023-08-17T20:32:26.668316Z",
     "iopub.status.idle": "2023-08-17T20:32:27.208846Z",
     "shell.execute_reply.started": "2023-08-17T20:32:26.668272Z",
     "shell.execute_reply": "2023-08-17T20:32:27.207974Z"
    },
    "trusted": true,
    "ExecuteTime": {
     "end_time": "2023-08-26T16:10:29.557792100Z",
     "start_time": "2023-08-26T16:10:29.139034Z"
    }
   },
   "execution_count": 22,
   "outputs": []
  },
  {
   "cell_type": "code",
   "source": [
    "def count_values(features, data):\n",
    "    result = {}\n",
    "\n",
    "    for feature in features:\n",
    "        result[feature] = len(set(data[feature]))\n",
    "\n",
    "    return result"
   ],
   "metadata": {
    "collapsed": false,
    "jupyter": {
     "outputs_hidden": false
    },
    "execution": {
     "iopub.status.busy": "2023-08-17T20:32:27.209934Z",
     "iopub.execute_input": "2023-08-17T20:32:27.210689Z",
     "iopub.status.idle": "2023-08-17T20:32:27.215370Z",
     "shell.execute_reply.started": "2023-08-17T20:32:27.210659Z",
     "shell.execute_reply": "2023-08-17T20:32:27.214007Z"
    },
    "trusted": true,
    "ExecuteTime": {
     "end_time": "2023-08-26T16:10:29.568785100Z",
     "start_time": "2023-08-26T16:10:29.558792Z"
    }
   },
   "execution_count": 23,
   "outputs": []
  },
  {
   "cell_type": "code",
   "source": [
    "for X_dataset in X_datasets:\n",
    "    result = count_values(categorical_columns, X_train)\n",
    "    print(result)"
   ],
   "metadata": {
    "collapsed": false,
    "jupyter": {
     "outputs_hidden": false
    },
    "execution": {
     "iopub.status.busy": "2023-08-17T20:32:27.216824Z",
     "iopub.execute_input": "2023-08-17T20:32:27.217215Z",
     "iopub.status.idle": "2023-08-17T20:32:29.642061Z",
     "shell.execute_reply.started": "2023-08-17T20:32:27.217181Z",
     "shell.execute_reply": "2023-08-17T20:32:29.640888Z"
    },
    "trusted": true,
    "ExecuteTime": {
     "end_time": "2023-08-26T16:10:31.498423300Z",
     "start_time": "2023-08-26T16:10:29.571784Z"
    }
   },
   "execution_count": 24,
   "outputs": [
    {
     "name": "stdout",
     "output_type": "stream",
     "text": [
      "{'addr_state': 51, 'home_ownership': 6, 'purpose': 14, 'term': 2, 'verification_status': 3, 'zip_code': 927}\n",
      "{'addr_state': 51, 'home_ownership': 6, 'purpose': 14, 'term': 2, 'verification_status': 3, 'zip_code': 927}\n",
      "{'addr_state': 51, 'home_ownership': 6, 'purpose': 14, 'term': 2, 'verification_status': 3, 'zip_code': 927}\n"
     ]
    }
   ]
  },
  {
   "cell_type": "code",
   "source": [
    "# drop zip_code feature\n",
    "for X_dataset in X_datasets:\n",
    "    X_dataset = X_dataset.drop('zip_code', axis=1)\n",
    "\n",
    "# delete from list\n",
    "categorical_columns.remove('zip_code')"
   ],
   "metadata": {
    "collapsed": false,
    "jupyter": {
     "outputs_hidden": false
    },
    "execution": {
     "iopub.status.busy": "2023-08-17T20:32:29.643126Z",
     "iopub.execute_input": "2023-08-17T20:32:29.643399Z",
     "iopub.status.idle": "2023-08-17T20:32:29.926224Z",
     "shell.execute_reply.started": "2023-08-17T20:32:29.643374Z",
     "shell.execute_reply": "2023-08-17T20:32:29.925121Z"
    },
    "trusted": true,
    "ExecuteTime": {
     "end_time": "2023-08-26T16:10:31.903313200Z",
     "start_time": "2023-08-26T16:10:31.501422100Z"
    }
   },
   "execution_count": 25,
   "outputs": []
  },
  {
   "cell_type": "code",
   "source": [
    "# drop addr_state feature\n",
    "for X_dataset in X_datasets:\n",
    "    X_dataset = X_dataset.drop('addr_state', axis=1)\n",
    "\n",
    "# delete from list\n",
    "categorical_columns.remove('addr_state')"
   ],
   "metadata": {
    "collapsed": false,
    "jupyter": {
     "outputs_hidden": false
    },
    "execution": {
     "iopub.status.busy": "2023-08-17T20:32:29.928005Z",
     "iopub.execute_input": "2023-08-17T20:32:29.928405Z",
     "iopub.status.idle": "2023-08-17T20:32:30.227830Z",
     "shell.execute_reply.started": "2023-08-17T20:32:29.928375Z",
     "shell.execute_reply": "2023-08-17T20:32:30.226996Z"
    },
    "trusted": true,
    "ExecuteTime": {
     "end_time": "2023-08-26T16:10:32.363950600Z",
     "start_time": "2023-08-26T16:10:31.905312500Z"
    }
   },
   "execution_count": 26,
   "outputs": []
  },
  {
   "cell_type": "code",
   "source": [
    "result = count_values(categorical_columns, X_train)\n",
    "print(result)"
   ],
   "metadata": {
    "collapsed": false,
    "jupyter": {
     "outputs_hidden": false
    },
    "execution": {
     "iopub.status.busy": "2023-08-17T20:32:30.228752Z",
     "iopub.execute_input": "2023-08-17T20:32:30.229022Z",
     "iopub.status.idle": "2023-08-17T20:32:30.751796Z",
     "shell.execute_reply.started": "2023-08-17T20:32:30.228998Z",
     "shell.execute_reply": "2023-08-17T20:32:30.751054Z"
    },
    "trusted": true,
    "ExecuteTime": {
     "end_time": "2023-08-26T16:10:32.736254700Z",
     "start_time": "2023-08-26T16:10:32.364950Z"
    }
   },
   "execution_count": 27,
   "outputs": [
    {
     "name": "stdout",
     "output_type": "stream",
     "text": [
      "{'home_ownership': 6, 'purpose': 14, 'term': 2, 'verification_status': 3}\n"
     ]
    }
   ]
  },
  {
   "cell_type": "code",
   "source": [
    "onehot_encoder = OneHotEncoder(sparse_output=False)"
   ],
   "metadata": {
    "collapsed": false,
    "jupyter": {
     "outputs_hidden": false
    },
    "execution": {
     "iopub.status.busy": "2023-08-17T20:32:30.752770Z",
     "iopub.execute_input": "2023-08-17T20:32:30.753667Z",
     "iopub.status.idle": "2023-08-17T20:32:30.758432Z",
     "shell.execute_reply.started": "2023-08-17T20:32:30.753637Z",
     "shell.execute_reply": "2023-08-17T20:32:30.757229Z"
    },
    "trusted": true,
    "ExecuteTime": {
     "end_time": "2023-08-26T16:10:32.746248800Z",
     "start_time": "2023-08-26T16:10:32.738253200Z"
    }
   },
   "execution_count": 28,
   "outputs": []
  },
  {
   "cell_type": "code",
   "source": [
    "def use_onehot_encoder_on_dataset(X_dataset):\n",
    "    encoded_categorical_matrix = onehot_encoder.fit_transform(X_dataset[categorical_columns])\n",
    "    # get the column names\n",
    "    column_names = onehot_encoder.get_feature_names_out()\n",
    "    encoded_categorical_dataset = pd.DataFrame(encoded_categorical_matrix, columns=column_names)\n",
    "\n",
    "    encoded_categorical_dataset.index = X_dataset[numerical_columns].index\n",
    "    # add numerical columns\n",
    "    encoded_dataset = pd.concat([encoded_categorical_dataset, X_dataset[numerical_columns]], axis=1)\n",
    "\n",
    "    return encoded_dataset"
   ],
   "metadata": {
    "collapsed": false,
    "jupyter": {
     "outputs_hidden": false
    },
    "execution": {
     "iopub.status.busy": "2023-08-17T20:32:30.759624Z",
     "iopub.execute_input": "2023-08-17T20:32:30.759873Z",
     "iopub.status.idle": "2023-08-17T20:32:30.772291Z",
     "shell.execute_reply.started": "2023-08-17T20:32:30.759850Z",
     "shell.execute_reply": "2023-08-17T20:32:30.771337Z"
    },
    "trusted": true,
    "ExecuteTime": {
     "end_time": "2023-08-26T16:10:32.786222800Z",
     "start_time": "2023-08-26T16:10:32.747248900Z"
    }
   },
   "execution_count": 29,
   "outputs": []
  },
  {
   "cell_type": "code",
   "source": [
    "encoded_X_train = use_onehot_encoder_on_dataset(X_train)\n",
    "encoded_X_test_from_train = use_onehot_encoder_on_dataset(X_test_from_train)\n",
    "encoded_X_test = use_onehot_encoder_on_dataset(X_test)"
   ],
   "metadata": {
    "collapsed": false,
    "jupyter": {
     "outputs_hidden": false
    },
    "execution": {
     "iopub.status.busy": "2023-08-17T20:32:30.773280Z",
     "iopub.execute_input": "2023-08-17T20:32:30.773545Z",
     "iopub.status.idle": "2023-08-17T20:32:35.394217Z",
     "shell.execute_reply.started": "2023-08-17T20:32:30.773522Z",
     "shell.execute_reply": "2023-08-17T20:32:35.393070Z"
    },
    "trusted": true,
    "ExecuteTime": {
     "end_time": "2023-08-26T16:10:36.866939500Z",
     "start_time": "2023-08-26T16:10:32.763239100Z"
    }
   },
   "execution_count": 30,
   "outputs": []
  },
  {
   "cell_type": "code",
   "source": [
    "encoded_categorical_X_datasets = [encoded_X_train, encoded_X_test_from_train, encoded_X_test]"
   ],
   "metadata": {
    "collapsed": false,
    "jupyter": {
     "outputs_hidden": false
    },
    "execution": {
     "iopub.status.busy": "2023-08-17T20:32:35.395714Z",
     "iopub.execute_input": "2023-08-17T20:32:35.396924Z",
     "iopub.status.idle": "2023-08-17T20:32:35.401654Z",
     "shell.execute_reply.started": "2023-08-17T20:32:35.396887Z",
     "shell.execute_reply": "2023-08-17T20:32:35.400653Z"
    },
    "trusted": true,
    "ExecuteTime": {
     "end_time": "2023-08-26T16:10:36.877933800Z",
     "start_time": "2023-08-26T16:10:36.867939100Z"
    }
   },
   "execution_count": 31,
   "outputs": []
  },
  {
   "cell_type": "code",
   "source": [
    "X_y_train = pd.concat([X_train, y_train], axis=1)"
   ],
   "metadata": {
    "collapsed": false,
    "jupyter": {
     "outputs_hidden": false
    },
    "execution": {
     "iopub.status.busy": "2023-08-17T20:32:35.403003Z",
     "iopub.execute_input": "2023-08-17T20:32:35.403921Z",
     "iopub.status.idle": "2023-08-17T20:32:35.579542Z",
     "shell.execute_reply.started": "2023-08-17T20:32:35.403892Z",
     "shell.execute_reply": "2023-08-17T20:32:35.578775Z"
    },
    "trusted": true,
    "ExecuteTime": {
     "end_time": "2023-08-26T16:10:37.153463500Z",
     "start_time": "2023-08-26T16:10:36.877933800Z"
    }
   },
   "execution_count": 32,
   "outputs": []
  },
  {
   "cell_type": "code",
   "source": [
    "%%time\n",
    "\n",
    "# Modeling differents algorithms\n",
    "random_state = 2\n",
    "\n",
    "kfold = StratifiedKFold(n_splits=3, shuffle=True, random_state=random_state)\n",
    "\n",
    "classifiers = []\n",
    "classifiers.append(DecisionTreeClassifier(random_state=random_state))\n",
    "classifiers.append(AdaBoostClassifier(DecisionTreeClassifier(random_state=random_state),random_state=random_state,learning_rate=0.1))\n",
    "classifiers.append(GradientBoostingClassifier(random_state=random_state))\n",
    "classifiers.append(XGBClassifier(seed=random_state))\n",
    "classifiers.append(KNeighborsClassifier())\n",
    "classifiers.append(LinearDiscriminantAnalysis())"
   ],
   "metadata": {
    "jupyter": {
     "outputs_hidden": false
    },
    "collapsed": false,
    "execution": {
     "iopub.status.busy": "2023-08-17T20:32:44.597809Z",
     "iopub.execute_input": "2023-08-17T20:32:44.598133Z",
     "iopub.status.idle": "2023-08-17T20:32:44.615066Z",
     "shell.execute_reply.started": "2023-08-17T20:32:44.598107Z",
     "shell.execute_reply": "2023-08-17T20:32:44.614139Z"
    },
    "trusted": true,
    "ExecuteTime": {
     "end_time": "2023-08-26T16:10:37.171454400Z",
     "start_time": "2023-08-26T16:10:37.154464Z"
    }
   },
   "execution_count": 33,
   "outputs": [
    {
     "name": "stdout",
     "output_type": "stream",
     "text": [
      "CPU times: total: 0 ns\n",
      "Wall time: 999 µs\n"
     ]
    }
   ]
  },
  {
   "cell_type": "code",
   "source": [
    "%%time\n",
    "cv_results = []\n",
    "for index, classifier in enumerate(classifiers):\n",
    "    cv_results.append(cross_val_score(classifier, encoded_X_train, y = y_train.values.ravel(), scoring = \"roc_auc\", cv = kfold, n_jobs=-1, verbose=3))\n",
    "    print(f\"Progress: {index + 1}/{len(classifiers)}\")"
   ],
   "metadata": {
    "jupyter": {
     "outputs_hidden": false
    },
    "collapsed": false,
    "execution": {
     "iopub.status.busy": "2023-08-17T20:32:44.616302Z",
     "iopub.execute_input": "2023-08-17T20:32:44.617072Z",
     "iopub.status.idle": "2023-08-17T20:32:44.626339Z",
     "shell.execute_reply.started": "2023-08-17T20:32:44.617041Z",
     "shell.execute_reply": "2023-08-17T20:32:44.625117Z"
    },
    "trusted": true,
    "ExecuteTime": {
     "end_time": "2023-08-26T17:05:03.144819700Z",
     "start_time": "2023-08-26T16:10:37.172452700Z"
    }
   },
   "execution_count": 34,
   "outputs": [
    {
     "name": "stderr",
     "output_type": "stream",
     "text": [
      "[Parallel(n_jobs=-1)]: Using backend LokyBackend with 4 concurrent workers.\n",
      "[Parallel(n_jobs=-1)]: Done   3 out of   3 | elapsed:  1.2min finished\n"
     ]
    },
    {
     "name": "stdout",
     "output_type": "stream",
     "text": [
      "Progress: 1/6\n"
     ]
    },
    {
     "name": "stderr",
     "output_type": "stream",
     "text": [
      "[Parallel(n_jobs=-1)]: Using backend LokyBackend with 4 concurrent workers.\n",
      "[Parallel(n_jobs=-1)]: Done   3 out of   3 | elapsed:  1.6min finished\n",
      "[Parallel(n_jobs=-1)]: Using backend LokyBackend with 4 concurrent workers.\n"
     ]
    },
    {
     "name": "stdout",
     "output_type": "stream",
     "text": [
      "Progress: 2/6\n"
     ]
    },
    {
     "name": "stderr",
     "output_type": "stream",
     "text": [
      "[Parallel(n_jobs=-1)]: Done   3 out of   3 | elapsed:  8.7min finished\n"
     ]
    },
    {
     "name": "stdout",
     "output_type": "stream",
     "text": [
      "Progress: 3/6\n"
     ]
    },
    {
     "name": "stderr",
     "output_type": "stream",
     "text": [
      "[Parallel(n_jobs=-1)]: Using backend LokyBackend with 4 concurrent workers.\n",
      "[Parallel(n_jobs=-1)]: Done   3 out of   3 | elapsed:  6.6min finished\n",
      "[Parallel(n_jobs=-1)]: Using backend LokyBackend with 4 concurrent workers.\n"
     ]
    },
    {
     "name": "stdout",
     "output_type": "stream",
     "text": [
      "Progress: 4/6\n"
     ]
    },
    {
     "name": "stderr",
     "output_type": "stream",
     "text": [
      "[Parallel(n_jobs=-1)]: Done   3 out of   3 | elapsed: 35.8min finished\n"
     ]
    },
    {
     "name": "stdout",
     "output_type": "stream",
     "text": [
      "Progress: 5/6\n"
     ]
    },
    {
     "name": "stderr",
     "output_type": "stream",
     "text": [
      "[Parallel(n_jobs=-1)]: Using backend LokyBackend with 4 concurrent workers.\n",
      "[Parallel(n_jobs=-1)]: Done   3 out of   3 | elapsed:   33.7s finished\n"
     ]
    },
    {
     "name": "stdout",
     "output_type": "stream",
     "text": [
      "Progress: 6/6\n",
      "CPU times: total: 5.09 s\n",
      "Wall time: 54min 24s\n"
     ]
    }
   ]
  },
  {
   "cell_type": "code",
   "source": [
    "%%time\n",
    "cv_means = []\n",
    "cv_std = []\n",
    "for cv_result in cv_results:\n",
    "    cv_means.append(cv_result.mean())\n",
    "    cv_std.append(cv_result.std())"
   ],
   "metadata": {
    "jupyter": {
     "outputs_hidden": false
    },
    "collapsed": false,
    "execution": {
     "iopub.status.busy": "2023-08-17T20:32:44.627945Z",
     "iopub.execute_input": "2023-08-17T20:32:44.628490Z",
     "iopub.status.idle": "2023-08-17T20:32:44.637902Z",
     "shell.execute_reply.started": "2023-08-17T20:32:44.628456Z",
     "shell.execute_reply": "2023-08-17T20:32:44.636905Z"
    },
    "trusted": true,
    "ExecuteTime": {
     "end_time": "2023-08-26T17:05:05.391437500Z",
     "start_time": "2023-08-26T17:05:04.623438900Z"
    }
   },
   "execution_count": 35,
   "outputs": [
    {
     "name": "stdout",
     "output_type": "stream",
     "text": [
      "CPU times: total: 0 ns\n",
      "Wall time: 102 ms\n"
     ]
    }
   ]
  },
  {
   "cell_type": "code",
   "source": [
    "cv_res = pd.DataFrame(\n",
    "    {\"CrossValMeans\": cv_means, \"CrossValerrors\": cv_std, \"Algorithm\": [\"DecisionTree\",\"AdaBoost\",\"GradientBoosting\",\"MultipleLayerPerceptron\",\"KNeighboors\",\"LinearDiscriminantAnalysis\"]})\n",
    "\n",
    "plt.figure(figsize=(12, 4))\n",
    "ax = sns.barplot(x='Algorithm', y='CrossValMeans', data=cv_res, palette='CMRmap_r')\n",
    "x_coords = [p.get_x() + 0.5 * p.get_width() for p in ax.patches]\n",
    "y_coords = [p.get_height() for p in ax.patches]\n",
    "ax.errorbar(x=x_coords, y=y_coords, yerr=cv_res[\"CrossValerrors\"], fmt=\"none\", c=\"k\")\n",
    "plt.show()"
   ],
   "metadata": {
    "jupyter": {
     "outputs_hidden": false
    },
    "collapsed": false,
    "execution": {
     "iopub.status.busy": "2023-08-17T20:32:44.639604Z",
     "iopub.execute_input": "2023-08-17T20:32:44.639971Z",
     "iopub.status.idle": "2023-08-17T20:32:44.649771Z",
     "shell.execute_reply.started": "2023-08-17T20:32:44.639935Z",
     "shell.execute_reply": "2023-08-17T20:32:44.648982Z"
    },
    "trusted": true,
    "ExecuteTime": {
     "end_time": "2023-08-27T22:34:13.889109100Z",
     "start_time": "2023-08-27T22:34:13.643681700Z"
    }
   },
   "execution_count": 79,
   "outputs": [
    {
     "data": {
      "text/plain": "<Figure size 1200x400 with 1 Axes>",
      "image/png": "[encoded data removed]"
     },
     "metadata": {},
     "output_type": "display_data"
    }
   ]
  },
  {
   "cell_type": "markdown",
   "source": [
    "DecisionTreeClassifier -> 0.549, 0.550, 0.551\\\n",
    "AdaBoostClassifier -> 0.548, 0.551, 0.550\\\n",
    "GradientBoostingClassifier -> 0.717, 0.718, 0.717\\\n",
    "XGBClassifier -> 0.722, 0.724, 0.722\\\n",
    "KNeighborsClassifier -> 0.574, 0.574, 0.574\\\n",
    "LogisticRegression -> STOP: TOTAL NO. of ITERATIONS REACHED LIMIT\\\n",
    "LinearDiscriminantAnalysis -> 0.706, 0.707, 0.706\\"
   ],
   "metadata": {}
  },
  {
   "cell_type": "code",
   "source": [
    "scaler = StandardScaler()\n",
    "encoded_X_train_scaled = scaler.fit_transform(encoded_X_train)\n",
    "encoded_X_test_from_train_scaled = scaler.fit_transform(encoded_X_test_from_train)"
   ],
   "metadata": {
    "execution": {
     "iopub.status.busy": "2023-08-17T20:32:44.681485Z",
     "iopub.execute_input": "2023-08-17T20:32:44.681878Z",
     "iopub.status.idle": "2023-08-17T20:32:45.842725Z",
     "shell.execute_reply.started": "2023-08-17T20:32:44.681842Z",
     "shell.execute_reply": "2023-08-17T20:32:45.841628Z"
    },
    "trusted": true,
    "ExecuteTime": {
     "end_time": "2023-08-26T17:05:19.409959100Z",
     "start_time": "2023-08-26T17:05:05.552575800Z"
    }
   },
   "execution_count": 37,
   "outputs": []
  },
  {
   "cell_type": "code",
   "source": [
    "logreg = LogisticRegression(random_state=random_state, solver='lbfgs', max_iter=200)\n",
    "cross_val_score(logreg, encoded_X_train_scaled, y=y_train.values.ravel(), scoring=\"roc_auc\", cv=kfold, n_jobs=-1, verbose=3, error_score='raise')"
   ],
   "metadata": {
    "execution": {
     "iopub.status.busy": "2023-08-17T20:32:45.844114Z",
     "iopub.execute_input": "2023-08-17T20:32:45.844453Z",
     "iopub.status.idle": "2023-08-17T20:32:45.849106Z",
     "shell.execute_reply.started": "2023-08-17T20:32:45.844424Z",
     "shell.execute_reply": "2023-08-17T20:32:45.848135Z"
    },
    "trusted": true,
    "ExecuteTime": {
     "end_time": "2023-08-26T17:05:40.845810100Z",
     "start_time": "2023-08-26T17:05:19.449934100Z"
    }
   },
   "execution_count": 38,
   "outputs": [
    {
     "name": "stderr",
     "output_type": "stream",
     "text": [
      "[Parallel(n_jobs=-1)]: Using backend LokyBackend with 4 concurrent workers.\n",
      "[Parallel(n_jobs=-1)]: Done   3 out of   3 | elapsed:   20.7s finished\n"
     ]
    },
    {
     "data": {
      "text/plain": "array([0.70788971, 0.70754346, 0.70639105])"
     },
     "execution_count": 38,
     "metadata": {},
     "output_type": "execute_result"
    }
   ]
  },
  {
   "cell_type": "markdown",
   "source": [
    "LogisticRegression -> 0.707, 0.707, 0.706"
   ],
   "metadata": {
    "collapsed": false
   }
  },
  {
   "cell_type": "code",
   "source": [
    "# best params from older notebooks\n",
    "\n",
    "# XGBClassifier best_params = (seed=17, max_depth=8, n_estimators=200, learning_rate=0.1, n_jobs=4)\n",
    "# GradientBoostingClassifier -> (random_state=random_state, n_estimators=200, learning_rate=0.5, max_depth=4, min_samples_leaf=100,max_features=0.3)\n",
    "# RandomForestClassifier best_params = (n_jobs=-1, max_depth=10, max_features=25, n_estimators=100)\n",
    "# LogisticRegression -> (random_state=random_state, solver='lbfgs', max_iter=200)\n",
    "# LinearDiscriminantAnalysis -> to be found"
   ],
   "metadata": {
    "execution": {
     "iopub.status.busy": "2023-08-17T20:32:45.850441Z",
     "iopub.execute_input": "2023-08-17T20:32:45.850761Z",
     "iopub.status.idle": "2023-08-17T20:32:45.862182Z",
     "shell.execute_reply.started": "2023-08-17T20:32:45.850734Z",
     "shell.execute_reply": "2023-08-17T20:32:45.861338Z"
    },
    "trusted": true,
    "ExecuteTime": {
     "end_time": "2023-08-26T17:05:40.856354700Z",
     "start_time": "2023-08-26T17:05:40.845810100Z"
    }
   },
   "execution_count": 39,
   "outputs": []
  },
  {
   "cell_type": "code",
   "source": [
    "%%time\n",
    "LGBMC_best = LGBMClassifier(colsample_bytree=0.8, max_depth=6, min_child_samples=10, n_estimators=300, random_state=random_state, subsample=0.7)\n",
    "LGBMC_best.fit(encoded_X_train, y_train.values.ravel())"
   ],
   "metadata": {
    "execution": {
     "iopub.status.busy": "2023-08-17T20:32:45.943519Z",
     "iopub.execute_input": "2023-08-17T20:32:45.943843Z",
     "iopub.status.idle": "2023-08-17T20:33:14.989906Z",
     "shell.execute_reply.started": "2023-08-17T20:32:45.943818Z",
     "shell.execute_reply": "2023-08-17T20:33:14.989036Z"
    },
    "trusted": true,
    "ExecuteTime": {
     "end_time": "2023-08-26T17:05:59.266251800Z",
     "start_time": "2023-08-26T17:05:40.856354700Z"
    }
   },
   "execution_count": 40,
   "outputs": [
    {
     "name": "stdout",
     "output_type": "stream",
     "text": [
      "CPU times: total: 1min 1s\n",
      "Wall time: 18.2 s\n"
     ]
    },
    {
     "data": {
      "text/plain": "LGBMClassifier(colsample_bytree=0.8, max_depth=6, min_child_samples=10,\n               n_estimators=300, random_state=2, subsample=0.7)",
      "text/html": "<style>#sk-container-id-1 {color: black;background-color: white;}#sk-container-id-1 pre{padding: 0;}#sk-container-id-1 div.sk-toggleable {background-color: white;}#sk-container-id-1 label.sk-toggleable__label {cursor: pointer;display: block;width: 100%;margin-bottom: 0;padding: 0.3em;box-sizing: border-box;text-align: center;}#sk-container-id-1 label.sk-toggleable__label-arrow:before {content: \"▸\";float: left;margin-right: 0.25em;color: #696969;}#sk-container-id-1 label.sk-toggleable__label-arrow:hover:before {color: black;}#sk-container-id-1 div.sk-estimator:hover label.sk-toggleable__label-arrow:before {color: black;}#sk-container-id-1 div.sk-toggleable__content {max-height: 0;max-width: 0;overflow: hidden;text-align: left;background-color: #f0f8ff;}#sk-container-id-1 div.sk-toggleable__content pre {margin: 0.2em;color: black;border-radius: 0.25em;background-color: #f0f8ff;}#sk-container-id-1 input.sk-toggleable__control:checked~div.sk-toggleable__content {max-height: 200px;max-width: 100%;overflow: auto;}#sk-container-id-1 input.sk-toggleable__control:checked~label.sk-toggleable__label-arrow:before {content: \"▾\";}#sk-container-id-1 div.sk-estimator input.sk-toggleable__control:checked~label.sk-toggleable__label {background-color: #d4ebff;}#sk-container-id-1 div.sk-label input.sk-toggleable__control:checked~label.sk-toggleable__label {background-color: #d4ebff;}#sk-container-id-1 input.sk-hidden--visually {border: 0;clip: rect(1px 1px 1px 1px);clip: rect(1px, 1px, 1px, 1px);height: 1px;margin: -1px;overflow: hidden;padding: 0;position: absolute;width: 1px;}#sk-container-id-1 div.sk-estimator {font-family: monospace;background-color: #f0f8ff;border: 1px dotted black;border-radius: 0.25em;box-sizing: border-box;margin-bottom: 0.5em;}#sk-container-id-1 div.sk-estimator:hover {background-color: #d4ebff;}#sk-container-id-1 div.sk-parallel-item::after {content: \"\";width: 100%;border-bottom: 1px solid gray;flex-grow: 1;}#sk-container-id-1 div.sk-label:hover label.sk-toggleable__label {background-color: #d4ebff;}#sk-container-id-1 div.sk-serial::before {content: \"\";position: absolute;border-left: 1px solid gray;box-sizing: border-box;top: 0;bottom: 0;left: 50%;z-index: 0;}#sk-container-id-1 div.sk-serial {display: flex;flex-direction: column;align-items: center;background-color: white;padding-right: 0.2em;padding-left: 0.2em;position: relative;}#sk-container-id-1 div.sk-item {position: relative;z-index: 1;}#sk-container-id-1 div.sk-parallel {display: flex;align-items: stretch;justify-content: center;background-color: white;position: relative;}#sk-container-id-1 div.sk-item::before, #sk-container-id-1 div.sk-parallel-item::before {content: \"\";position: absolute;border-left: 1px solid gray;box-sizing: border-box;top: 0;bottom: 0;left: 50%;z-index: -1;}#sk-container-id-1 div.sk-parallel-item {display: flex;flex-direction: column;z-index: 1;position: relative;background-color: white;}#sk-container-id-1 div.sk-parallel-item:first-child::after {align-self: flex-end;width: 50%;}#sk-container-id-1 div.sk-parallel-item:last-child::after {align-self: flex-start;width: 50%;}#sk-container-id-1 div.sk-parallel-item:only-child::after {width: 0;}#sk-container-id-1 div.sk-dashed-wrapped {border: 1px dashed gray;margin: 0 0.4em 0.5em 0.4em;box-sizing: border-box;padding-bottom: 0.4em;background-color: white;}#sk-container-id-1 div.sk-label label {font-family: monospace;font-weight: bold;display: inline-block;line-height: 1.2em;}#sk-container-id-1 div.sk-label-container {text-align: center;}#sk-container-id-1 div.sk-container {/* jupyter's `normalize.less` sets `[hidden] { display: none; }` but bootstrap.min.css set `[hidden] { display: none !important; }` so we also need the `!important` here to be able to override the default hidden behavior on the sphinx rendered scikit-learn.org. See: https://github.com/scikit-learn/scikit-learn/issues/21755 */display: inline-block !important;position: relative;}#sk-container-id-1 div.sk-text-repr-fallback {display: none;}</style><div id=\"sk-container-id-1\" class=\"sk-top-container\"><div class=\"sk-text-repr-fallback\"><pre>LGBMClassifier(colsample_bytree=0.8, max_depth=6, min_child_samples=10,\n               n_estimators=300, random_state=2, subsample=0.7)</pre><b>In a Jupyter environment, please rerun this cell to show the HTML representation or trust the notebook. <br />On GitHub, the HTML representation is unable to render, please try loading this page with nbviewer.org.</b></div><div class=\"sk-container\" hidden><div class=\"sk-item\"><div class=\"sk-estimator sk-toggleable\"><input class=\"sk-toggleable__control sk-hidden--visually\" id=\"sk-estimator-id-1\" type=\"checkbox\" checked><label for=\"sk-estimator-id-1\" class=\"sk-toggleable__label sk-toggleable__label-arrow\">LGBMClassifier</label><div class=\"sk-toggleable__content\"><pre>LGBMClassifier(colsample_bytree=0.8, max_depth=6, min_child_samples=10,\n               n_estimators=300, random_state=2, subsample=0.7)</pre></div></div></div></div></div>"
     },
     "execution_count": 40,
     "metadata": {},
     "output_type": "execute_result"
    }
   ]
  },
  {
   "cell_type": "code",
   "source": [
    "%%time\n",
    "xgb_best = XGBClassifier(seed=random_state, max_depth=8, n_estimators=200, learning_rate=0.1)\n",
    "xgb_best.fit(encoded_X_train, y_train.values.ravel())"
   ],
   "metadata": {
    "execution": {
     "iopub.status.busy": "2023-08-17T20:33:16.716909Z",
     "iopub.execute_input": "2023-08-17T20:33:16.717205Z",
     "iopub.status.idle": "2023-08-17T20:54:49.463902Z",
     "shell.execute_reply.started": "2023-08-17T20:33:16.717179Z",
     "shell.execute_reply": "2023-08-17T20:54:49.462746Z"
    },
    "trusted": true,
    "ExecuteTime": {
     "end_time": "2023-08-26T17:12:34.990637100Z",
     "start_time": "2023-08-26T17:05:59.336522400Z"
    }
   },
   "execution_count": 41,
   "outputs": [
    {
     "name": "stdout",
     "output_type": "stream",
     "text": [
      "CPU times: total: 24min 58s\n",
      "Wall time: 6min 35s\n"
     ]
    },
    {
     "data": {
      "text/plain": "XGBClassifier(base_score=None, booster=None, callbacks=None,\n              colsample_bylevel=None, colsample_bynode=None,\n              colsample_bytree=None, early_stopping_rounds=None,\n              enable_categorical=False, eval_metric=None, feature_types=None,\n              gamma=None, gpu_id=None, grow_policy=None, importance_type=None,\n              interaction_constraints=None, learning_rate=0.1, max_bin=None,\n              max_cat_threshold=None, max_cat_to_onehot=None,\n              max_delta_step=None, max_depth=8, max_leaves=None,\n              min_child_weight=None, missing=nan, monotone_constraints=None,\n              n_estimators=200, n_jobs=None, num_parallel_tree=None,\n              predictor=None, random_state=None, ...)",
      "text/html": "<style>#sk-container-id-2 {color: black;background-color: white;}#sk-container-id-2 pre{padding: 0;}#sk-container-id-2 div.sk-toggleable {background-color: white;}#sk-container-id-2 label.sk-toggleable__label {cursor: pointer;display: block;width: 100%;margin-bottom: 0;padding: 0.3em;box-sizing: border-box;text-align: center;}#sk-container-id-2 label.sk-toggleable__label-arrow:before {content: \"▸\";float: left;margin-right: 0.25em;color: #696969;}#sk-container-id-2 label.sk-toggleable__label-arrow:hover:before {color: black;}#sk-container-id-2 div.sk-estimator:hover label.sk-toggleable__label-arrow:before {color: black;}#sk-container-id-2 div.sk-toggleable__content {max-height: 0;max-width: 0;overflow: hidden;text-align: left;background-color: #f0f8ff;}#sk-container-id-2 div.sk-toggleable__content pre {margin: 0.2em;color: black;border-radius: 0.25em;background-color: #f0f8ff;}#sk-container-id-2 input.sk-toggleable__control:checked~div.sk-toggleable__content {max-height: 200px;max-width: 100%;overflow: auto;}#sk-container-id-2 input.sk-toggleable__control:checked~label.sk-toggleable__label-arrow:before {content: \"▾\";}#sk-container-id-2 div.sk-estimator input.sk-toggleable__control:checked~label.sk-toggleable__label {background-color: #d4ebff;}#sk-container-id-2 div.sk-label input.sk-toggleable__control:checked~label.sk-toggleable__label {background-color: #d4ebff;}#sk-container-id-2 input.sk-hidden--visually {border: 0;clip: rect(1px 1px 1px 1px);clip: rect(1px, 1px, 1px, 1px);height: 1px;margin: -1px;overflow: hidden;padding: 0;position: absolute;width: 1px;}#sk-container-id-2 div.sk-estimator {font-family: monospace;background-color: #f0f8ff;border: 1px dotted black;border-radius: 0.25em;box-sizing: border-box;margin-bottom: 0.5em;}#sk-container-id-2 div.sk-estimator:hover {background-color: #d4ebff;}#sk-container-id-2 div.sk-parallel-item::after {content: \"\";width: 100%;border-bottom: 1px solid gray;flex-grow: 1;}#sk-container-id-2 div.sk-label:hover label.sk-toggleable__label {background-color: #d4ebff;}#sk-container-id-2 div.sk-serial::before {content: \"\";position: absolute;border-left: 1px solid gray;box-sizing: border-box;top: 0;bottom: 0;left: 50%;z-index: 0;}#sk-container-id-2 div.sk-serial {display: flex;flex-direction: column;align-items: center;background-color: white;padding-right: 0.2em;padding-left: 0.2em;position: relative;}#sk-container-id-2 div.sk-item {position: relative;z-index: 1;}#sk-container-id-2 div.sk-parallel {display: flex;align-items: stretch;justify-content: center;background-color: white;position: relative;}#sk-container-id-2 div.sk-item::before, #sk-container-id-2 div.sk-parallel-item::before {content: \"\";position: absolute;border-left: 1px solid gray;box-sizing: border-box;top: 0;bottom: 0;left: 50%;z-index: -1;}#sk-container-id-2 div.sk-parallel-item {display: flex;flex-direction: column;z-index: 1;position: relative;background-color: white;}#sk-container-id-2 div.sk-parallel-item:first-child::after {align-self: flex-end;width: 50%;}#sk-container-id-2 div.sk-parallel-item:last-child::after {align-self: flex-start;width: 50%;}#sk-container-id-2 div.sk-parallel-item:only-child::after {width: 0;}#sk-container-id-2 div.sk-dashed-wrapped {border: 1px dashed gray;margin: 0 0.4em 0.5em 0.4em;box-sizing: border-box;padding-bottom: 0.4em;background-color: white;}#sk-container-id-2 div.sk-label label {font-family: monospace;font-weight: bold;display: inline-block;line-height: 1.2em;}#sk-container-id-2 div.sk-label-container {text-align: center;}#sk-container-id-2 div.sk-container {/* jupyter's `normalize.less` sets `[hidden] { display: none; }` but bootstrap.min.css set `[hidden] { display: none !important; }` so we also need the `!important` here to be able to override the default hidden behavior on the sphinx rendered scikit-learn.org. See: https://github.com/scikit-learn/scikit-learn/issues/21755 */display: inline-block !important;position: relative;}#sk-container-id-2 div.sk-text-repr-fallback {display: none;}</style><div id=\"sk-container-id-2\" class=\"sk-top-container\"><div class=\"sk-text-repr-fallback\"><pre>XGBClassifier(base_score=None, booster=None, callbacks=None,\n              colsample_bylevel=None, colsample_bynode=None,\n              colsample_bytree=None, early_stopping_rounds=None,\n              enable_categorical=False, eval_metric=None, feature_types=None,\n              gamma=None, gpu_id=None, grow_policy=None, importance_type=None,\n              interaction_constraints=None, learning_rate=0.1, max_bin=None,\n              max_cat_threshold=None, max_cat_to_onehot=None,\n              max_delta_step=None, max_depth=8, max_leaves=None,\n              min_child_weight=None, missing=nan, monotone_constraints=None,\n              n_estimators=200, n_jobs=None, num_parallel_tree=None,\n              predictor=None, random_state=None, ...)</pre><b>In a Jupyter environment, please rerun this cell to show the HTML representation or trust the notebook. <br />On GitHub, the HTML representation is unable to render, please try loading this page with nbviewer.org.</b></div><div class=\"sk-container\" hidden><div class=\"sk-item\"><div class=\"sk-estimator sk-toggleable\"><input class=\"sk-toggleable__control sk-hidden--visually\" id=\"sk-estimator-id-2\" type=\"checkbox\" checked><label for=\"sk-estimator-id-2\" class=\"sk-toggleable__label sk-toggleable__label-arrow\">XGBClassifier</label><div class=\"sk-toggleable__content\"><pre>XGBClassifier(base_score=None, booster=None, callbacks=None,\n              colsample_bylevel=None, colsample_bynode=None,\n              colsample_bytree=None, early_stopping_rounds=None,\n              enable_categorical=False, eval_metric=None, feature_types=None,\n              gamma=None, gpu_id=None, grow_policy=None, importance_type=None,\n              interaction_constraints=None, learning_rate=0.1, max_bin=None,\n              max_cat_threshold=None, max_cat_to_onehot=None,\n              max_delta_step=None, max_depth=8, max_leaves=None,\n              min_child_weight=None, missing=nan, monotone_constraints=None,\n              n_estimators=200, n_jobs=None, num_parallel_tree=None,\n              predictor=None, random_state=None, ...)</pre></div></div></div></div></div>"
     },
     "execution_count": 41,
     "metadata": {},
     "output_type": "execute_result"
    }
   ]
  },
  {
   "cell_type": "code",
   "source": [
    "%%time\n",
    "rf_best = RandomForestClassifier(n_jobs=-1, max_depth=10, max_features=25, n_estimators=100)\n",
    "rf_best = rf_best.fit(encoded_X_train, y_train.values.ravel())"
   ],
   "metadata": {
    "execution": {
     "iopub.status.busy": "2023-08-17T20:54:51.676881Z",
     "iopub.execute_input": "2023-08-17T20:54:51.677182Z",
     "iopub.status.idle": "2023-08-17T21:06:57.835923Z",
     "shell.execute_reply.started": "2023-08-17T20:54:51.677156Z",
     "shell.execute_reply": "2023-08-17T21:06:57.834622Z"
    },
    "trusted": true,
    "ExecuteTime": {
     "end_time": "2023-08-26T17:18:14.571636Z",
     "start_time": "2023-08-26T17:12:34.950660700Z"
    }
   },
   "execution_count": 42,
   "outputs": [
    {
     "name": "stdout",
     "output_type": "stream",
     "text": [
      "CPU times: total: 21min 51s\n",
      "Wall time: 5min 39s\n"
     ]
    }
   ]
  },
  {
   "cell_type": "code",
   "source": [
    "%%time\n",
    "logreg_best = LogisticRegression(random_state=random_state, solver='lbfgs', max_iter=200)\n",
    "logreg_best = logreg_best.fit(encoded_X_train_scaled, y_train.values.ravel())"
   ],
   "metadata": {
    "execution": {
     "iopub.status.busy": "2023-08-17T21:07:02.102969Z",
     "iopub.execute_input": "2023-08-17T21:07:02.103390Z",
     "iopub.status.idle": "2023-08-17T21:07:13.246648Z",
     "shell.execute_reply.started": "2023-08-17T21:07:02.103340Z",
     "shell.execute_reply": "2023-08-17T21:07:13.245599Z"
    },
    "trusted": true,
    "ExecuteTime": {
     "end_time": "2023-08-26T17:18:26.323714600Z",
     "start_time": "2023-08-26T17:18:14.571636Z"
    }
   },
   "execution_count": 43,
   "outputs": [
    {
     "name": "stdout",
     "output_type": "stream",
     "text": [
      "CPU times: total: 30.5 s\n",
      "Wall time: 11.7 s\n"
     ]
    }
   ]
  },
  {
   "cell_type": "code",
   "source": [
    "%%time\n",
    "GBC_best = GradientBoostingClassifier(random_state=random_state, n_estimators=200, learning_rate=0.5, max_depth=4, min_samples_leaf=100,max_features=0.3)\n",
    "GBC_best = GBC_best.fit(encoded_X_train, y_train.values.ravel())"
   ],
   "metadata": {
    "execution": {
     "iopub.status.busy": "2023-08-17T21:07:13.763908Z",
     "iopub.execute_input": "2023-08-17T21:07:13.764225Z",
     "iopub.status.idle": "2023-08-17T21:14:51.061025Z",
     "shell.execute_reply.started": "2023-08-17T21:07:13.764197Z",
     "shell.execute_reply": "2023-08-17T21:14:51.059859Z"
    },
    "trusted": true,
    "ExecuteTime": {
     "end_time": "2023-08-26T17:26:24.599053100Z",
     "start_time": "2023-08-26T17:18:26.325714300Z"
    }
   },
   "execution_count": 44,
   "outputs": [
    {
     "name": "stdout",
     "output_type": "stream",
     "text": [
      "CPU times: total: 7min 56s\n",
      "Wall time: 7min 58s\n"
     ]
    }
   ]
  },
  {
   "cell_type": "code",
   "source": [
    "%%time\n",
    "lda_best = LinearDiscriminantAnalysis()\n",
    "lda_best = lda_best.fit(encoded_X_train, y_train.values.ravel())"
   ],
   "metadata": {
    "execution": {
     "iopub.status.busy": "2023-08-17T21:14:52.779284Z",
     "iopub.execute_input": "2023-08-17T21:14:52.779653Z",
     "iopub.status.idle": "2023-08-17T21:15:05.492901Z",
     "shell.execute_reply.started": "2023-08-17T21:14:52.779614Z",
     "shell.execute_reply": "2023-08-17T21:15:05.489026Z"
    },
    "trusted": true,
    "ExecuteTime": {
     "end_time": "2023-08-26T17:26:42.402349700Z",
     "start_time": "2023-08-26T17:26:24.601053200Z"
    }
   },
   "execution_count": 45,
   "outputs": [
    {
     "name": "stdout",
     "output_type": "stream",
     "text": [
      "CPU times: total: 39.9 s\n",
      "Wall time: 17.8 s\n"
     ]
    }
   ]
  },
  {
   "cell_type": "code",
   "source": [
    "test_LGBMC = pd.Series(LGBMC_best.predict(encoded_X_test_from_train), name=\"LGBMC\")\n",
    "test_xgb = pd.Series(xgb_best.predict(encoded_X_test_from_train), name=\"xgb\")\n",
    "test_rf = pd.Series(rf_best.predict(encoded_X_test_from_train), name=\"rf\")\n",
    "test_logreg = pd.Series(logreg_best.predict(encoded_X_test_from_train_scaled), name=\"logreg\")\n",
    "test_GBC = pd.Series(GBC_best.predict(encoded_X_test_from_train), name=\"GBC\")\n",
    "test_lda = pd.Series(lda_best.predict(encoded_X_test_from_train), name=\"lda\")\n",
    "\n",
    "# Concatenate all classifier results\n",
    "ensemble_results = pd.concat([test_LGBMC,test_xgb,test_rf,test_logreg, test_GBC, test_lda],axis=1)\n",
    "\n",
    "g = sns.heatmap(ensemble_results.corr(),annot=True)"
   ],
   "metadata": {
    "execution": {
     "iopub.status.busy": "2023-08-17T21:15:05.743712Z",
     "iopub.execute_input": "2023-08-17T21:15:05.744465Z",
     "iopub.status.idle": "2023-08-17T21:15:16.430710Z",
     "shell.execute_reply.started": "2023-08-17T21:15:05.744423Z",
     "shell.execute_reply": "2023-08-17T21:15:16.429787Z"
    },
    "trusted": true,
    "ExecuteTime": {
     "end_time": "2023-08-26T17:27:21.340403600Z",
     "start_time": "2023-08-26T17:26:42.434330Z"
    }
   },
   "execution_count": 46,
   "outputs": [
    {
     "data": {
      "text/plain": "<Figure size 640x480 with 2 Axes>",
      "image/png": "[encoded data removed]"
     },
     "metadata": {},
     "output_type": "display_data"
    }
   ]
  },
  {
   "cell_type": "code",
   "source": [
    "%%time\n",
    "votingC_boost = VotingClassifier(\n",
    "    estimators=[\n",
    "        ('lgbmc', LGBMC_best), \n",
    "        ('xgb', xgb_best),\n",
    "    ],\n",
    "    voting='soft', n_jobs=4, verbose=3)\n",
    "\n",
    "votingC_boost = votingC_boost.fit(encoded_X_train, y_train.values.ravel())"
   ],
   "metadata": {
    "execution": {
     "iopub.status.busy": "2023-08-17T22:03:25.917574Z",
     "iopub.execute_input": "2023-08-17T22:03:25.917967Z",
     "iopub.status.idle": "2023-08-17T22:25:27.788570Z",
     "shell.execute_reply.started": "2023-08-17T22:03:25.917936Z",
     "shell.execute_reply": "2023-08-17T22:25:27.787024Z"
    },
    "trusted": true,
    "ExecuteTime": {
     "end_time": "2023-08-26T17:46:01.300663900Z",
     "start_time": "2023-08-26T17:27:21.356394700Z"
    }
   },
   "execution_count": 47,
   "outputs": [
    {
     "name": "stdout",
     "output_type": "stream",
     "text": [
      "CPU times: total: 4.33 s\n",
      "Wall time: 18min 39s\n"
     ]
    }
   ]
  },
  {
   "cell_type": "code",
   "source": [
    "roc_auc_score_test_value_ensemble_model_boost = roc_auc_score(y_test_from_train, votingC_boost.predict_proba(encoded_X_test_from_train)[:, 1])\n",
    "print(roc_auc_score_test_value_ensemble_model_boost)"
   ],
   "metadata": {
    "execution": {
     "iopub.status.busy": "2023-08-17T22:25:27.790813Z",
     "iopub.execute_input": "2023-08-17T22:25:27.791629Z",
     "iopub.status.idle": "2023-08-17T22:25:31.446379Z",
     "shell.execute_reply.started": "2023-08-17T22:25:27.791562Z",
     "shell.execute_reply": "2023-08-17T22:25:31.445307Z"
    },
    "trusted": true,
    "ExecuteTime": {
     "end_time": "2023-08-26T17:46:03.521472900Z",
     "start_time": "2023-08-26T17:46:01.302663100Z"
    }
   },
   "execution_count": 48,
   "outputs": [
    {
     "name": "stdout",
     "output_type": "stream",
     "text": [
      "0.7268470083244738\n"
     ]
    }
   ]
  },
  {
   "cell_type": "code",
   "source": [
    "index = encoded_X_test.index\n",
    "y_test = votingC_boost.predict_proba(encoded_X_test)[:, 1]\n",
    "predictions = pd.DataFrame(y_test, index=index, columns=['loan_status'])"
   ],
   "metadata": {
    "execution": {
     "iopub.status.busy": "2023-08-17T22:25:31.448004Z",
     "iopub.execute_input": "2023-08-17T22:25:31.448651Z",
     "iopub.status.idle": "2023-08-17T22:25:40.667734Z",
     "shell.execute_reply.started": "2023-08-17T22:25:31.448609Z",
     "shell.execute_reply": "2023-08-17T22:25:40.666657Z"
    },
    "trusted": true,
    "ExecuteTime": {
     "end_time": "2023-08-26T17:46:35.231281700Z",
     "start_time": "2023-08-26T17:46:03.521472900Z"
    }
   },
   "execution_count": 49,
   "outputs": []
  },
  {
   "cell_type": "code",
   "source": [
    "predictions.head()"
   ],
   "metadata": {
    "execution": {
     "iopub.status.busy": "2023-08-17T22:25:40.668971Z",
     "iopub.execute_input": "2023-08-17T22:25:40.669281Z",
     "iopub.status.idle": "2023-08-17T22:25:40.681518Z",
     "shell.execute_reply.started": "2023-08-17T22:25:40.669255Z",
     "shell.execute_reply": "2023-08-17T22:25:40.680458Z"
    },
    "trusted": true,
    "ExecuteTime": {
     "end_time": "2023-08-26T17:46:35.347211900Z",
     "start_time": "2023-08-26T17:46:35.233281900Z"
    }
   },
   "execution_count": 50,
   "outputs": [
    {
     "data": {
      "text/plain": "       loan_status\nindex             \n0         0.600087\n1         0.251976\n2         0.144663\n3         0.037093\n4         0.072169",
      "text/html": "<div>\n<style scoped>\n    .dataframe tbody tr th:only-of-type {\n        vertical-align: middle;\n    }\n\n    .dataframe tbody tr th {\n        vertical-align: top;\n    }\n\n    .dataframe thead th {\n        text-align: right;\n    }\n</style>\n<table border=\"1\" class=\"dataframe\">\n  <thead>\n    <tr style=\"text-align: right;\">\n      <th></th>\n      <th>loan_status</th>\n    </tr>\n    <tr>\n      <th>index</th>\n      <th></th>\n    </tr>\n  </thead>\n  <tbody>\n    <tr>\n      <th>0</th>\n      <td>0.600087</td>\n    </tr>\n    <tr>\n      <th>1</th>\n      <td>0.251976</td>\n    </tr>\n    <tr>\n      <th>2</th>\n      <td>0.144663</td>\n    </tr>\n    <tr>\n      <th>3</th>\n      <td>0.037093</td>\n    </tr>\n    <tr>\n      <th>4</th>\n      <td>0.072169</td>\n    </tr>\n  </tbody>\n</table>\n</div>"
     },
     "execution_count": 50,
     "metadata": {},
     "output_type": "execute_result"
    }
   ]
  },
  {
   "cell_type": "code",
   "source": [
    "predictions.to_csv('answer.csv')\n",
    "# gini = 0.4585"
   ],
   "metadata": {
    "execution": {
     "iopub.status.busy": "2023-08-17T22:26:24.850202Z",
     "iopub.execute_input": "2023-08-17T22:26:24.850634Z",
     "iopub.status.idle": "2023-08-17T22:26:27.430902Z",
     "shell.execute_reply.started": "2023-08-17T22:26:24.850602Z",
     "shell.execute_reply": "2023-08-17T22:26:27.429791Z"
    },
    "trusted": true,
    "ExecuteTime": {
     "end_time": "2023-08-26T17:46:38.174434200Z",
     "start_time": "2023-08-26T17:46:35.347211900Z"
    }
   },
   "execution_count": 51,
   "outputs": []
  }
 ]
}
